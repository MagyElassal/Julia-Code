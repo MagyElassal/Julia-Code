{
 "cells": [
  {
   "cell_type": "code",
   "execution_count": 1,
   "metadata": {
    "collapsed": false
   },
   "outputs": [
    {
     "data": {
      "text/html": [
       "<script charset=\"utf-8\">(function ($, undefined) {\n",
       "\n",
       "    function createElem(tag, attr, content) {\n",
       "\t// TODO: remove jQuery dependency\n",
       "\tvar el = $(\"<\" + tag + \"/>\").attr(attr);\n",
       "\tif (content) {\n",
       "\t    el.append(content);\n",
       "\t}\n",
       "\treturn el[0];\n",
       "    }\n",
       "\n",
       "    // A widget must expose an id field which identifies it to the backend,\n",
       "    // an elem attribute which is will be added to the DOM, and\n",
       "    // a getState() method which returns the value to be sent to the backend\n",
       "    // a sendUpdate() method which sends its current value to the backend\n",
       "    var Widget = {\n",
       "\tid: undefined,\n",
       "\telem: undefined,\n",
       "\tlabel: undefined,\n",
       "\tgetState: function () {\n",
       "\t    return this.elem.value;\n",
       "\t},\n",
       "\tsendUpdate: undefined\n",
       "    };\n",
       "\n",
       "    var Slider = function (typ, id, init) {\n",
       "\tvar attr = { type:  \"range\",\n",
       "\t\t     value: init.value,\n",
       "\t\t     min:   init.min,\n",
       "\t\t     max:   init.max,\n",
       "\t\t     step:  init.step },\n",
       "\t    elem = createElem(\"input\", attr),\n",
       "\t    self = this;\n",
       "\n",
       "\telem.onchange = function () {\n",
       "\t    self.sendUpdate();\n",
       "\t}\n",
       "\n",
       "\tthis.id = id;\n",
       "\tthis.elem = elem;\n",
       "\tthis.label = init.label;\n",
       "\n",
       "\tInputWidgets.commInitializer(this); // Initialize communication\n",
       "    }\n",
       "    Slider.prototype = Widget;\n",
       "\n",
       "    var Checkbox = function (typ, id, init) {\n",
       "\tvar attr = { type: \"checkbox\",\n",
       "\t\t     checked: init.value },\n",
       "\t    elem = createElem(\"input\", attr),\n",
       "\t    self = this;\n",
       "\n",
       "\tthis.getState = function () {\n",
       "\t    return elem.checked;\n",
       "\t}\n",
       "\telem.onchange = function () {\n",
       "\t    self.sendUpdate();\n",
       "\t}\n",
       "\n",
       "\tthis.id = id;\n",
       "\tthis.elem = elem;\n",
       "\tthis.label = init.label;\n",
       "\n",
       "\tInputWidgets.commInitializer(this);\n",
       "    }\n",
       "    Checkbox.prototype = Widget;\n",
       "\n",
       "    var Button = function (typ, id, init) {\n",
       "\tvar attr = { type:    \"button\",\n",
       "\t\t     value:   init.label },\n",
       "\t    elem = createElem(\"input\", attr),\n",
       "\t    self = this;\n",
       "\tthis.getState = function () {\n",
       "\t    return null;\n",
       "\t}\n",
       "\telem.onclick = function () {\n",
       "\t    self.sendUpdate();\n",
       "\t}\n",
       "\n",
       "\tthis.id = id;\n",
       "\tthis.elem = elem;\n",
       "\tthis.label = init.label;\n",
       "\n",
       "\tInputWidgets.commInitializer(this);\n",
       "    }\n",
       "    Button.prototype = Widget;\n",
       "\n",
       "    var Text = function (typ, id, init) {\n",
       "\tvar attr = { type:  \"text\",\n",
       "\t\t     placeholder: init.label,\n",
       "\t\t     value: init.value },\n",
       "\t    elem = createElem(\"input\", attr),\n",
       "\t    self = this;\n",
       "\tthis.getState = function () {\n",
       "\t    return elem.value;\n",
       "\t}\n",
       "\telem.onkeyup = function () {\n",
       "\t    self.sendUpdate();\n",
       "\t}\n",
       "\n",
       "\tthis.id = id;\n",
       "\tthis.elem = elem;\n",
       "\tthis.label = init.label;\n",
       "\n",
       "\tInputWidgets.commInitializer(this);\n",
       "    }\n",
       "    Text.prototype = Widget;\n",
       "\n",
       "    var Textarea = function (typ, id, init) {\n",
       "\tvar attr = { placeholder: init.label },\n",
       "\t    elem = createElem(\"textarea\", attr, init.value),\n",
       "\t    self = this;\n",
       "\tthis.getState = function () {\n",
       "\t    return elem.value;\n",
       "\t}\n",
       "\telem.onchange = function () {\n",
       "\t    self.sendUpdate();\n",
       "\t}\n",
       "\n",
       "\tthis.id = id;\n",
       "\tthis.elem = elem;\n",
       "\tthis.label = init.label;\n",
       "\n",
       "\tInputWidgets.commInitializer(this);\n",
       "    }\n",
       "    Textarea.prototype = Widget;\n",
       "\n",
       "    // RadioButtons\n",
       "    // Dropdown\n",
       "    // HTML\n",
       "    // Latex\n",
       "\n",
       "    var InputWidgets = {\n",
       "\tSlider: Slider,\n",
       "\tCheckbox: Checkbox,\n",
       "\tButton: Button,\n",
       "\tText: Text,\n",
       "\tTextarea: Textarea,\n",
       "\tdebug: false,\n",
       "\tlog: function () {\n",
       "\t    if (InputWidgets.debug) {\n",
       "\t\tconsole.log.apply(console, arguments);\n",
       "\t    }\n",
       "\t},\n",
       "\t// a central way to initalize communication\n",
       "\t// for widgets.\n",
       "\tcommInitializer: function (widget) {\n",
       "\t    widget.sendUpdate = function () {};\n",
       "\t}\n",
       "    };\n",
       "\n",
       "    window.InputWidgets = InputWidgets;\n",
       "\n",
       "})(jQuery, undefined);\n",
       "</script>"
      ]
     },
     "metadata": {},
     "output_type": "display_data"
    },
    {
     "data": {
      "text/html": [
       "<div id=\"interact-js-shim\">\n",
       "    <script charset=\"utf-8\">\n",
       "(function (IPython, $, _, MathJax, Widgets) {\n",
       "    $.event.special.destroyed = {\n",
       "\tremove: function(o) {\n",
       "\t    if (o.handler) {\n",
       "\t\to.handler.apply(this, arguments)\n",
       "\t    }\n",
       "\t}\n",
       "    }\n",
       "\n",
       "    var OutputArea = IPython.version >= \"4.0.0\" ? require(\"notebook/js/outputarea\").OutputArea : IPython.OutputArea;\n",
       "\n",
       "    var redrawValue = function (container, type, val) {\n",
       "\tvar selector = $(\"<div/>\");\n",
       "\tvar oa = new OutputArea(_.extend(selector, {\n",
       "\t    selector: selector,\n",
       "\t    prompt_area: true,\n",
       "\t    events: IPython.events,\n",
       "\t    keyboard_manager: IPython.keyboard_manager\n",
       "\t})); // Hack to work with IPython 2.1.0\n",
       "\n",
       "\tswitch (type) {\n",
       "\tcase \"image/png\":\n",
       "            var _src = 'data:' + type + ';base64,' + val;\n",
       "\t    $(container).find(\"img\").attr('src', _src);\n",
       "\t    break;\n",
       "\tdefault:\n",
       "\t    var toinsert = OutputArea.append_map[type].apply(\n",
       "\t\toa, [val, {}, selector]\n",
       "\t    );\n",
       "\t    $(container).empty().append(toinsert.contents());\n",
       "\t    selector.remove();\n",
       "\t}\n",
       "\tif (type === \"text/latex\" && MathJax) {\n",
       "\t    MathJax.Hub.Queue([\"Typeset\", MathJax.Hub, toinsert.get(0)]);\n",
       "\t}\n",
       "    }\n",
       "\n",
       "\n",
       "    $(document).ready(function() {\n",
       "\tWidgets.debug = false; // log messages etc in console.\n",
       "\tfunction initComm(evt, data) {\n",
       "\t    var comm_manager = data.kernel.comm_manager;\n",
       "        //_.extend(comm_manager.targets, require(\"widgets/js/widget\"))\n",
       "\t    comm_manager.register_target(\"Signal\", function (comm) {\n",
       "            comm.on_msg(function (msg) {\n",
       "                //Widgets.log(\"message received\", msg);\n",
       "                var val = msg.content.data.value;\n",
       "                $(\".signal-\" + comm.comm_id).each(function() {\n",
       "                var type = $(this).data(\"type\");\n",
       "                if (val[type]) {\n",
       "                    redrawValue(this, type, val[type], type);\n",
       "                }\n",
       "                });\n",
       "                delete val;\n",
       "                delete msg.content.data.value;\n",
       "            });\n",
       "\t    });\n",
       "\n",
       "\t    // coordingate with Comm and redraw Signals\n",
       "\t    // XXX: Test using Reactive here to improve performance\n",
       "\t    $([IPython.events]).on(\n",
       "\t\t'output_appended.OutputArea', function (event, type, value, md, toinsert) {\n",
       "\t\t    if (md && md.reactive) {\n",
       "                // console.log(md.comm_id);\n",
       "                toinsert.addClass(\"signal-\" + md.comm_id);\n",
       "                toinsert.data(\"type\", type);\n",
       "                // Signal back indicating the mimetype required\n",
       "                var comm_manager = IPython.notebook.kernel.comm_manager;\n",
       "                var comm = comm_manager.comms[md.comm_id];\n",
       "                comm.then(function (c) {\n",
       "                    c.send({action: \"subscribe_mime\",\n",
       "                       mime: type});\n",
       "                    toinsert.bind(\"destroyed\", function() {\n",
       "                        c.send({action: \"unsubscribe_mime\",\n",
       "                               mime: type});\n",
       "                    });\n",
       "                })\n",
       "\t\t    }\n",
       "\t    });\n",
       "\t}\n",
       "\n",
       "\ttry {\n",
       "\t    // try to initialize right away. otherwise, wait on the status_started event.\n",
       "\t    initComm(undefined, IPython.notebook);\n",
       "\t} catch (e) {\n",
       "\t    $([IPython.events]).on('kernel_created.Kernel kernel_created.Session', initComm);\n",
       "\t}\n",
       "    });\n",
       "})(IPython, jQuery, _, MathJax, InputWidgets);\n",
       "</script>\n",
       "    <script>\n",
       "        window.interactLoadedFlag = true\n",
       "       $(\"#interact-js-shim\").bind(\"destroyed\", function () {\n",
       "           if (window.interactLoadedFlag) {\n",
       "               console.warn(\"JavaScript required by Interact will be removed if you remove this cell or run using Interact more than once.\")\n",
       "           }\n",
       "       })\n",
       "       $([IPython.events]).on(\"kernel_starting.Kernel kernel_restarting.Kernel\", function () { window.interactLoadedFlag = false })\n",
       "   </script>\n",
       "</div>"
      ]
     },
     "metadata": {},
     "output_type": "display_data"
    },
    {
     "name": "stderr",
     "output_type": "stream",
     "text": [
      "WARNING: Base.FloatingPoint is deprecated, use AbstractFloat instead.\n",
      "  likely near C:\\Users\\Magy\\.julia\\v0.4\\Interact\\src\\IJulia/setup.jl:153\n",
      "WARNING: Base.FloatingPoint is deprecated, use AbstractFloat instead.\n",
      "  likely near C:\\Users\\Magy\\.julia\\v0.4\\Interact\\src\\IJulia/setup.jl:157\n",
      "WARNING: Union(args...) is deprecated, use Union{args...} instead.\n",
      " in depwarn at deprecated.jl:73\n",
      " in call at deprecated.jl:50\n",
      " in include at boot.jl:261\n",
      " in include_from_node1 at loading.jl:304\n",
      " in include at boot.jl:261\n",
      " in include_from_node1 at loading.jl:304\n",
      " in include at boot.jl:261\n",
      " in include_from_node1 at loading.jl:304\n",
      " in require at loading.jl:243\n",
      " in include_string at loading.jl:266\n",
      " in execute_request_0x535c5df2 at C:\\Users\\Magy\\.julia\\v0.4\\IJulia\\src\\execute_request.jl:177\n",
      " in eventloop at C:\\Users\\Magy\\.julia\\v0.4\\IJulia\\src\\IJulia.jl:141\n",
      " in anonymous at task.jl:447\n",
      "while loading C:\\Users\\Magy\\.julia\\v0.4\\Interact\\src\\IJulia\\statedict.jl, in expression starting on line 1\n"
     ]
    }
   ],
   "source": [
    "using PyPlot\n",
    "using Interact\n",
    "using Distributions"
   ]
  },
  {
   "cell_type": "code",
   "execution_count": 2,
   "metadata": {
    "collapsed": false
   },
   "outputs": [
    {
     "data": {
      "text/plain": [
       "Observations (generic function with 1 method)"
      ]
     },
     "execution_count": 2,
     "metadata": {},
     "output_type": "execute_result"
    }
   ],
   "source": [
    "function Observations(w,n) # w is the actual wight and n is number of observations\n",
    "    Data = Array(1:n)\n",
    "    for i=1:n\n",
    "        if rand() < w\n",
    "            Data[i]= 1\n",
    "        else \n",
    "            Data[i]= 0 \n",
    "        end\n",
    "    end\n",
    "    return Data\n",
    "end"
   ]
  },
  {
   "cell_type": "code",
   "execution_count": null,
   "metadata": {
    "collapsed": true
   },
   "outputs": [],
   "source": [
    "function CoinProblem(Data) #Data vector containts the observations\n",
    "    H= [0:0.001:1...] # Hypothesis for the wight of the coin \n",
    "    perior= 1 \n",
    "    r= sum(Data)\n",
    "    n= length(Data)\n",
    "    Likelihood= H.^r .* (1 .- H).^(n-r)\n",
    "    Posterior= Likelihood .* perior\n",
    "    \n",
    "    return H, Posterior\n",
    "end"
   ]
  },
  {
   "cell_type": "code",
   "execution_count": 3,
   "metadata": {
    "collapsed": false
   },
   "outputs": [
    {
     "name": "stderr",
     "output_type": "stream",
     "text": [
      "INFO: Recompiling stale cache file C:\\Users\\Magy\\.julia\\lib\\v0.4\\Images.ji for module Images.\n",
      "INFO: Recompiling stale cache file C:\\Users\\Magy\\.julia\\lib\\v0.4\\ColorVectorSpace.ji for module ColorVectorSpace.\n",
      "INFO: Recompiling stale cache file C:\\Users\\Magy\\.julia\\lib\\v0.4\\FileIO.ji for module FileIO.\n",
      "INFO: Recompiling stale cache file C:\\Users\\Magy\\.julia\\lib\\v0.4\\Graphics.ji for module Graphics.\n",
      "WARNING: requiring \"Latex\" in module \"Main\" did not define a corresponding module.\n"
     ]
    }
   ],
   "source": [
    "using Latex"
   ]
  },
  {
   "cell_type": "code",
   "execution_count": 30,
   "metadata": {
    "collapsed": false
   },
   "outputs": [
    {
     "data": {
      "text/plain": [
       "0.15000000000000002"
      ]
     },
     "execution_count": 30,
     "metadata": {},
     "output_type": "execute_result"
    }
   ],
   "source": [
    "μ= 0.5\n",
    "σ= (0.65-0.35)/2"
   ]
  },
  {
   "cell_type": "code",
   "execution_count": 56,
   "metadata": {
    "collapsed": false
   },
   "outputs": [
    {
     "data": {
      "text/plain": [
       "30-element Array{Float64,1}:\n",
       " 0.488163  \n",
       " 0.579825  \n",
       " 0.0187159 \n",
       " 0.39282   \n",
       " 0.152462  \n",
       " 0.119761  \n",
       " 0.341126  \n",
       " 0.926963  \n",
       " 0.888686  \n",
       " 0.647584  \n",
       " 0.639452  \n",
       " 0.561696  \n",
       " 0.240462  \n",
       " ⋮         \n",
       " 0.461914  \n",
       " 0.824861  \n",
       " 0.495947  \n",
       " 0.920271  \n",
       " 0.103161  \n",
       " 0.299532  \n",
       " 0.00986335\n",
       " 0.435321  \n",
       " 0.874511  \n",
       " 0.682725  \n",
       " 0.190581  \n",
       " 0.391088  "
      ]
     },
     "execution_count": 56,
     "metadata": {},
     "output_type": "execute_result"
    }
   ],
   "source": [
    "D= rand(30)"
   ]
  },
  {
   "cell_type": "code",
   "execution_count": 54,
   "metadata": {
    "collapsed": false
   },
   "outputs": [
    {
     "data": {
      "text/plain": [
       "Distributions.Normal(μ=0.5, σ=0.15000000000000002)"
      ]
     },
     "execution_count": 54,
     "metadata": {},
     "output_type": "execute_result"
    }
   ],
   "source": [
    "for i=1:30\n",
    "    if rand() < 0.35 || D[i] > 0.65\n",
    "        D[i]= 0;\n",
    "    end \n",
    "end\n",
    "D\n",
    "N= Normal(μ,σ)"
   ]
  },
  {
   "cell_type": "code",
   "execution_count": 57,
   "metadata": {
    "collapsed": false
   },
   "outputs": [
    {
     "data": {
      "image/png": "[encoded data removed]",
      "text/plain": [
       "PyPlot.Figure(PyObject <matplotlib.figure.Figure object at 0x000000002A586978>)"
      ]
     },
     "metadata": {},
     "output_type": "display_data"
    },
    {
     "data": {
      "text/plain": [
       "1-element Array{Any,1}:\n",
       " PyObject <matplotlib.lines.Line2D object at 0x000000002A6110F0>"
      ]
     },
     "execution_count": 57,
     "metadata": {},
     "output_type": "execute_result"
    }
   ],
   "source": [
    "plot(D)"
   ]
  },
  {
   "cell_type": "code",
   "execution_count": 40,
   "metadata": {
    "collapsed": false
   },
   "outputs": [
    {
     "data": {
      "text/plain": [
       "30-element Array{Float64,1}:\n",
       " 2.65183 \n",
       " 0.528447\n",
       " 2.24029 \n",
       " 1.56417 \n",
       " 2.49468 \n",
       " 2.20738 \n",
       " 0.367957\n",
       " 2.40309 \n",
       " 2.60006 \n",
       " 1.78338 \n",
       " 2.27089 \n",
       " 2.04946 \n",
       " 1.78302 \n",
       " ⋮       \n",
       " 2.41225 \n",
       " 2.18468 \n",
       " 2.61407 \n",
       " 2.50834 \n",
       " 2.46589 \n",
       " 2.11466 \n",
       " 1.95432 \n",
       " 2.1981  \n",
       " 2.62455 \n",
       " 2.44578 \n",
       " 2.09659 \n",
       " 1.51065 "
      ]
     },
     "execution_count": 40,
     "metadata": {},
     "output_type": "execute_result"
    }
   ],
   "source": [
    "pdfD= pdf(Normal(μ,σ),D)"
   ]
  },
  {
   "cell_type": "code",
   "execution_count": 41,
   "metadata": {
    "collapsed": false
   },
   "outputs": [
    {
     "data": {
      "image/png": "[encoded data removed]",
      "text/plain": [
       "PyPlot.Figure(PyObject <matplotlib.figure.Figure object at 0x000000002A2EA710>)"
      ]
     },
     "metadata": {},
     "output_type": "display_data"
    },
    {
     "data": {
      "text/plain": [
       "1-element Array{Any,1}:\n",
       " PyObject <matplotlib.lines.Line2D object at 0x000000002A4ED048>"
      ]
     },
     "execution_count": 41,
     "metadata": {},
     "output_type": "execute_result"
    }
   ],
   "source": [
    "plot(pdfD)"
   ]
  },
  {
   "cell_type": "code",
   "execution_count": 45,
   "metadata": {
    "collapsed": false
   },
   "outputs": [
    {
     "ename": "LoadError",
     "evalue": "LoadError: MethodError: `probs` has no method matching probs(::Distributions.Normal)\nwhile loading In[45], in expression starting on line 1",
     "output_type": "error",
     "traceback": [
      "LoadError: MethodError: `probs` has no method matching probs(::Distributions.Normal)\nwhile loading In[45], in expression starting on line 1",
      ""
     ]
    }
   ],
   "source": [
    "probs(Normal())"
   ]
  },
  {
   "cell_type": "code",
   "execution_count": 46,
   "metadata": {
    "collapsed": false
   },
   "outputs": [
    {
     "name": "stdout",
     "output_type": "stream",
     "text": [
      "search:"
     ]
    },
    {
     "data": {
      "text/latex": [
       "No documentation found.\n",
       "\\texttt{Distributions.probs} is a generic \\texttt{Function}.\n",
       "\\begin{verbatim}\n",
       "# 5 methods for generic function \"probs\":\n",
       "probs(d::Distributions.Categorical) at C:\\Users\\Magy\\.julia\\v0.4\\Distributions\\src\\univariate\\discrete\\categorical.jl:24\n",
       "probs(d::Distributions.Multinomial) at C:\\Users\\Magy\\.julia\\v0.4\\Distributions\\src\\multivariate\\multinomial.jl:23\n",
       "probs(d::Distributions.MixtureModel{VF<:Distributions.VariateForm,VS<:Distributions.ValueSupport,C<:Distributions.Distribution{F<:Distributions.VariateForm,S<:Distributions.ValueSupport}}) at C:\\Users\\Magy\\.julia\\v0.4\\Distributions\\src\\mixtures/mixturemodel.jl:71\n",
       "probs(d::Distributions.UnivariateGMM) at C:\\Users\\Magy\\.julia\\v0.4\\Distributions\\src\\mixtures/unigmm.jl:22\n",
       "probs(d::Distributions.Distribution{Distributions.Univariate,Distributions.Discrete}) at C:\\Users\\Magy\\.julia\\v0.4\\Distributions\\src\\deprecates.jl:24\n",
       "\\end{verbatim}\n"
      ],
      "text/markdown": [
       "No documentation found.\n",
       "\n",
       "`Distributions.probs` is a generic `Function`.\n",
       "\n",
       "```julia\n",
       "# 5 methods for generic function \"probs\":\n",
       "probs(d::Distributions.Categorical) at C:\\Users\\Magy\\.julia\\v0.4\\Distributions\\src\\univariate\\discrete\\categorical.jl:24\n",
       "probs(d::Distributions.Multinomial) at C:\\Users\\Magy\\.julia\\v0.4\\Distributions\\src\\multivariate\\multinomial.jl:23\n",
       "probs(d::Distributions.MixtureModel{VF<:Distributions.VariateForm,VS<:Distributions.ValueSupport,C<:Distributions.Distribution{F<:Distributions.VariateForm,S<:Distributions.ValueSupport}}) at C:\\Users\\Magy\\.julia\\v0.4\\Distributions\\src\\mixtures/mixturemodel.jl:71\n",
       "probs(d::Distributions.UnivariateGMM) at C:\\Users\\Magy\\.julia\\v0.4\\Distributions\\src\\mixtures/unigmm.jl:22\n",
       "probs(d::Distributions.Distribution{Distributions.Univariate,Distributions.Discrete}) at C:\\Users\\Magy\\.julia\\v0.4\\Distributions\\src\\deprecates.jl:24\n",
       "```\n"
      ],
      "text/plain": [
       "No documentation found.\n",
       "\n",
       "`Distributions.probs` is a generic `Function`.\n",
       "\n",
       "```julia\n",
       "# 5 methods for generic function \"probs\":\n",
       "probs(d::Distributions.Categorical) at C:\\Users\\Magy\\.julia\\v0.4\\Distributions\\src\\univariate\\discrete\\categorical.jl:24\n",
       "probs(d::Distributions.Multinomial) at C:\\Users\\Magy\\.julia\\v0.4\\Distributions\\src\\multivariate\\multinomial.jl:23\n",
       "probs(d::Distributions.MixtureModel{VF<:Distributions.VariateForm,VS<:Distributions.ValueSupport,C<:Distributions.Distribution{F<:Distributions.VariateForm,S<:Distributions.ValueSupport}}) at C:\\Users\\Magy\\.julia\\v0.4\\Distributions\\src\\mixtures/mixturemodel.jl:71\n",
       "probs(d::Distributions.UnivariateGMM) at C:\\Users\\Magy\\.julia\\v0.4\\Distributions\\src\\mixtures/unigmm.jl:22\n",
       "probs(d::Distributions.Distribution{Distributions.Univariate,Distributions.Discrete}) at C:\\Users\\Magy\\.julia\\v0.4\\Distributions\\src\\deprecates.jl:24\n",
       "```\n"
      ]
     },
     "execution_count": 46,
     "metadata": {},
     "output_type": "execute_result"
    },
    {
     "name": "stdout",
     "output_type": "stream",
     "text": [
      " probs probval isprobvec succprob failprob pointer_from_objref\n",
      "\n"
     ]
    }
   ],
   "source": [
    "?probs"
   ]
  },
  {
   "cell_type": "code",
   "execution_count": null,
   "metadata": {
    "collapsed": true
   },
   "outputs": [],
   "source": []
  }
 ],
 "metadata": {
  "kernelspec": {
   "display_name": "Julia 0.4.0",
   "language": "julia",
   "name": "julia-0.4"
  },
  "language_info": {
   "file_extension": ".jl",
   "mimetype": "application/julia",
   "name": "julia",
   "version": "0.4.0"
  }
 },
 "nbformat": 4,
 "nbformat_minor": 0
}
