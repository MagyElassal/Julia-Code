{
 "cells": [
  {
   "cell_type": "code",
   "execution_count": 40,
   "metadata": {
    "collapsed": false
   },
   "outputs": [],
   "source": [
    "using Distributions"
   ]
  },
  {
   "cell_type": "code",
   "execution_count": 8,
   "metadata": {
    "collapsed": false
   },
   "outputs": [
    {
     "data": {
      "text/plain": [
       "1x5 Array{Float64,2}:\n",
       " 1.0  3.0  0.0  0.0  1.0"
      ]
     },
     "execution_count": 8,
     "metadata": {},
     "output_type": "execute_result"
    }
   ],
   "source": [
    "predata= zeros(1,5)\n",
    "A = rand!(Poisson(),predata) #for generating a poisson random numbers.\n",
    "B = rand!(Poisson(),predata) #for generating a poisson random numbers."
   ]
  },
  {
   "cell_type": "code",
   "execution_count": 44,
   "metadata": {
    "collapsed": false
   },
   "outputs": [
    {
     "data": {
      "text/plain": [
       "1x13 Array{Float64,2}:\n",
       " 44.9028  15.7534  -90.2069  -19.091  …  -107.015  -73.3851  -33.3182"
      ]
     },
     "execution_count": 44,
     "metadata": {},
     "output_type": "execute_result"
    }
   ],
   "source": [
    "#first panel\n",
    "N= 100;\n",
    "n0= 15;\n",
    "w= 5;\n",
    "x= [-6:1:6];\n",
    "M= length(x)\n",
    "N= rand!(Normal(),zeros(1,M))*100"
   ]
  },
  {
   "cell_type": "code",
   "execution_count": null,
   "metadata": {
    "collapsed": true
   },
   "outputs": [],
   "source": []
  },
  {
   "cell_type": "code",
   "execution_count": 3,
   "metadata": {
    "collapsed": false
   },
   "outputs": [
    {
     "name": "stdout",
     "output_type": "stream",
     "text": [
      "search: h"
     ]
    },
    {
     "data": {
      "text/latex": [
       "\\begin{verbatim}\n",
       "hist(v, e) -> e, counts\n",
       "\\end{verbatim}\n",
       "Compute the histogram of \\texttt{v} using a vector/range \\texttt{e} as the edges for the bins. The result will be a vector of length \\texttt{length(e) - 1}, such that the element at location \\texttt{i} satisfies \\texttt{sum(e[i] .< v .<= e[i+1])}. Note: Julia does not ignore \\texttt{NaN} values in the computation.\n",
       "\\begin{verbatim}\n",
       "hist(v[, n]) -> e, counts\n",
       "\\end{verbatim}\n",
       "Compute the histogram of \\texttt{v}, optionally using approximately \\texttt{n} bins. The return values are a range \\texttt{e}, which correspond to the edges of the bins, and \\texttt{counts} containing the number of elements of \\texttt{v} in each bin. Note: Julia does not ignore \\texttt{NaN} values in the computation.\n"
      ],
      "text/markdown": [
       "```\n",
       "hist(v, e) -> e, counts\n",
       "```\n",
       "\n",
       "Compute the histogram of `v` using a vector/range `e` as the edges for the bins. The result will be a vector of length `length(e) - 1`, such that the element at location `i` satisfies `sum(e[i] .< v .<= e[i+1])`. Note: Julia does not ignore `NaN` values in the computation.\n",
       "\n",
       "```\n",
       "hist(v[, n]) -> e, counts\n",
       "```\n",
       "\n",
       "Compute the histogram of `v`, optionally using approximately `n` bins. The return values are a range `e`, which correspond to the edges of the bins, and `counts` containing the number of elements of `v` in each bin. Note: Julia does not ignore `NaN` values in the computation.\n"
      ],
      "text/plain": [
       "```\n",
       "hist(v, e) -> e, counts\n",
       "```\n",
       "\n",
       "Compute the histogram of `v` using a vector/range `e` as the edges for the bins. The result will be a vector of length `length(e) - 1`, such that the element at location `i` satisfies `sum(e[i] .< v .<= e[i+1])`. Note: Julia does not ignore `NaN` values in the computation.\n",
       "\n",
       "```\n",
       "hist(v[, n]) -> e, counts\n",
       "```\n",
       "\n",
       "Compute the histogram of `v`, optionally using approximately `n` bins. The return values are a range `e`, which correspond to the edges of the bins, and `counts` containing the number of elements of `v` in each bin. Note: Julia does not ignore `NaN` values in the computation.\n"
      ]
     },
     "execution_count": 3,
     "metadata": {},
     "output_type": "execute_result"
    },
    {
     "name": "stdout",
     "output_type": "stream",
     "text": [
      "ist hist! hist2d hist2d! histrange clear_history method_exists\n",
      "\n"
     ]
    }
   ],
   "source": [
    "?hist"
   ]
  },
  {
   "cell_type": "code",
   "execution_count": 6,
   "metadata": {
    "collapsed": false
   },
   "outputs": [
    {
     "name": "stdout",
     "output_type": "stream",
     "text": [
      "search:"
     ]
    },
    {
     "data": {
      "text/latex": [
       "\\begin{verbatim}\n",
       "histrange(v, n)\n",
       "\\end{verbatim}\n",
       "Compute \\emph{nice} bin ranges for the edges of a histogram of \\texttt{v}, using approximately \\texttt{n} bins. The resulting step sizes will be 1, 2 or 5 multiplied by a power of 10. Note: Julia does not ignore \\texttt{NaN} values in the computation.\n"
      ],
      "text/markdown": [
       "```\n",
       "histrange(v, n)\n",
       "```\n",
       "\n",
       "Compute *nice* bin ranges for the edges of a histogram of `v`, using approximately `n` bins. The resulting step sizes will be 1, 2 or 5 multiplied by a power of 10. Note: Julia does not ignore `NaN` values in the computation.\n"
      ],
      "text/plain": [
       "```\n",
       "histrange(v, n)\n",
       "```\n",
       "\n",
       "Compute *nice* bin ranges for the edges of a histogram of `v`, using approximately `n` bins. The resulting step sizes will be 1, 2 or 5 multiplied by a power of 10. Note: Julia does not ignore `NaN` values in the computation.\n"
      ]
     },
     "execution_count": 6,
     "metadata": {},
     "output_type": "execute_result"
    },
    {
     "name": "stdout",
     "output_type": "stream",
     "text": [
      " histrange\n",
      "\n"
     ]
    }
   ],
   "source": [
    "?histrange"
   ]
  },
  {
   "cell_type": "code",
   "execution_count": 32,
   "metadata": {
    "collapsed": false
   },
   "outputs": [
    {
     "data": {
      "text/plain": [
       "(0.0:10.0:90.0,\n",
       "9x13 Array{Int64,2}:\n",
       " 0  0  0  0  0  0  0  0  0  0  1  0  0\n",
       " 0  0  0  0  0  0  0  0  0  0  0  0  0\n",
       " 0  0  0  0  1  0  0  0  0  0  0  0  1\n",
       " 0  0  1  0  0  0  0  0  0  0  0  1  0\n",
       " 0  0  0  0  0  0  1  0  0  0  0  0  0\n",
       " 1  1  0  1  0  1  0  1  0  0  0  0  0\n",
       " 0  0  0  0  0  0  0  0  0  0  0  0  0\n",
       " 0  0  0  0  0  0  0  0  1  0  0  0  0\n",
       " 0  0  0  0  0  0  0  0  0  1  0  0  0)"
      ]
     },
     "execution_count": 32,
     "metadata": {},
     "output_type": "execute_result"
    }
   ],
   "source": [
    "vec= hist(N,13)"
   ]
  },
  {
   "cell_type": "code",
   "execution_count": 17,
   "metadata": {
    "collapsed": true
   },
   "outputs": [],
   "source": [
    "using PyPlot"
   ]
  },
  {
   "cell_type": "code",
   "execution_count": 35,
   "metadata": {
    "collapsed": false
   },
   "outputs": [
    {
     "data": {
      "image/png": "[encoded data removed]",
      "text/plain": [
       "PyPlot.Figure(PyObject <matplotlib.figure.Figure object at 0x0000000018C55208>)"
      ]
     },
     "metadata": {},
     "output_type": "display_data"
    },
    {
     "data": {
      "text/plain": [
       "(Any[[1.0,1.0,1.0,0.0,1.0,1.0,0.0,1.0,1.0,0.0,1.0,1.0,1.0],[117.0,0.0,0.0,0.0,0.0,0.0,0.0,0.0,0.0,0.0,0.0,0.0,0.0]],[0.0,6.923076923076923,13.846153846153847,20.76923076923077,27.692307692307693,34.61538461538461,41.53846153846154,48.46153846153847,55.38461538461539,62.30769230769231,69.23076923076923,76.15384615384616,83.07692307692308,90.0],Any[(PyObject <matplotlib.patches.Rectangle object at 0x0000000029CE3198>,PyObject <matplotlib.patches.Rectangle object at 0x0000000029CE39E8>,PyObject <matplotlib.patches.Rectangle object at 0x0000000029CE82B0>,PyObject <matplotlib.patches.Rectangle object at 0x0000000029CE8BA8>,PyObject <matplotlib.patches.Rectangle object at 0x0000000029CED470>,PyObject <matplotlib.patches.Rectangle object at 0x0000000029CEDD68>,PyObject <matplotlib.patches.Rectangle object at 0x0000000029CF2630>,PyObject <matplotlib.patches.Rectangle object at 0x0000000029CF2F28>,PyObject <matplotlib.patches.Rectangle object at 0x0000000029CF7828>,PyObject <matplotlib.patches.Rectangle object at 0x0000000029CF7F28>,PyObject <matplotlib.patches.Rectangle object at 0x0000000029EE8278>,PyObject <matplotlib.patches.Rectangle object at 0x0000000029BB2438>,PyObject <matplotlib.patches.Rectangle object at 0x0000000029BE9BA8>),(PyObject <matplotlib.patches.Rectangle object at 0x0000000029B9AF28>,PyObject <matplotlib.patches.Rectangle object at 0x0000000029CFDC50>,PyObject <matplotlib.patches.Rectangle object at 0x0000000029D03AC8>,PyObject <matplotlib.patches.Rectangle object at 0x0000000029D07390>,PyObject <matplotlib.patches.Rectangle object at 0x0000000029D07C88>,PyObject <matplotlib.patches.Rectangle object at 0x0000000029D0D550>,PyObject <matplotlib.patches.Rectangle object at 0x0000000029D0DE48>,PyObject <matplotlib.patches.Rectangle object at 0x0000000029D14748>,PyObject <matplotlib.patches.Rectangle object at 0x0000000029D14E10>,PyObject <matplotlib.patches.Rectangle object at 0x0000000029D19908>,PyObject <matplotlib.patches.Rectangle object at 0x0000000029D19C88>,PyObject <matplotlib.patches.Rectangle object at 0x0000000029D1FAC8>,PyObject <matplotlib.patches.Rectangle object at 0x0000000029D25390>)])"
      ]
     },
     "execution_count": 35,
     "metadata": {},
     "output_type": "execute_result"
    }
   ],
   "source": [
    "h = plt[:hist](vec,13)"
   ]
  },
  {
   "cell_type": "code",
   "execution_count": null,
   "metadata": {
    "collapsed": true
   },
   "outputs": [],
   "source": []
  }
 ],
 "metadata": {
  "kernelspec": {
   "display_name": "Julia 0.4.0",
   "language": "julia",
   "name": "julia-0.4"
  },
  "language_info": {
   "file_extension": ".jl",
   "mimetype": "application/julia",
   "name": "julia",
   "version": "0.4.0"
  }
 },
 "nbformat": 4,
 "nbformat_minor": 0
}
