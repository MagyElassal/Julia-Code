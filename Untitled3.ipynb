{
 "cells": [
  {
   "cell_type": "code",
   "execution_count": 2,
   "metadata": {
    "collapsed": true
   },
   "outputs": [],
   "source": [
    "using Distributions\n",
    "using PyPlot"
   ]
  },
  {
   "cell_type": "code",
   "execution_count": 3,
   "metadata": {
    "collapsed": false
   },
   "outputs": [
    {
     "name": "stderr",
     "output_type": "stream",
     "text": [
      "WARNING: [a] concatenation is deprecated; use collect(a) instead"
     ]
    },
    {
     "data": {
      "text/plain": [
       "1x6 Array{Float64,2}:\n",
       " 4.7574  -2.95546  3.7271  4.53799  2.81263  4.59653"
      ]
     },
     "execution_count": 3,
     "metadata": {},
     "output_type": "execute_result"
    }
   ],
   "source": [
    "N= [0:20:100];\n",
    "M= length(N)\n",
    "minR= -6;\n",
    "maxR= 6;\n",
    "x= minR + rand(1,M)* (maxR-minR)\n"
   ]
  },
  {
   "cell_type": "code",
   "execution_count": 4,
   "metadata": {
    "collapsed": false
   },
   "outputs": [
    {
     "name": "stderr",
     "output_type": "stream",
     "text": [
      "\n",
      " in depwarn at deprecated.jl:73\n",
      " in oldstyle_vcat_warning at abstractarray.jl:29\n",
      " in vect at abstractarray.jl:32\n",
      " in include_string at loading.jl:266\n",
      " in execute_request_0x535c5df2 at C:\\Users\\Magy\\.julia\\v0.4\\IJulia\\src\\execute_request.jl:177\n",
      " in eventloop at C:\\Users\\Magy\\.julia\\v0.4\\IJulia\\src\\IJulia.jl:141\n",
      " in anonymous at task.jl:447\n",
      "while loading In[3], in expression starting on line 1\n"
     ]
    },
    {
     "data": {
      "text/plain": [
       "1x6 Array{Float64,2}:\n",
       " -1.0  -0.96  -1.0  -0.98  -0.98  -1.0"
      ]
     },
     "execution_count": 4,
     "metadata": {},
     "output_type": "execute_result"
    }
   ],
   "source": [
    "minN= 50;\n",
    "maxN= 100;\n",
    "N = (rand!(Poisson(),zeros(1,6)) - minN) / (maxN - minN)"
   ]
  },
  {
   "cell_type": "code",
   "execution_count": 5,
   "metadata": {
    "collapsed": false
   },
   "outputs": [
    {
     "data": {
      "text/plain": [
       "(-1.0050000000000001:0.005:-0.9550000000000001,\n",
       "10x6 Array{Int64,2}:\n",
       " 0  0  0  0  0  0\n",
       " 1  0  1  0  0  1\n",
       " 0  0  0  0  0  0\n",
       " 0  0  0  0  0  0\n",
       " 0  0  0  0  0  0\n",
       " 0  0  0  1  1  0\n",
       " 0  0  0  0  0  0\n",
       " 0  0  0  0  0  0\n",
       " 0  0  0  0  0  0\n",
       " 0  1  0  0  0  0)"
      ]
     },
     "execution_count": 5,
     "metadata": {},
     "output_type": "execute_result"
    }
   ],
   "source": [
    "v = hist(N,15)"
   ]
  },
  {
   "cell_type": "code",
   "execution_count": 6,
   "metadata": {
    "collapsed": false
   },
   "outputs": [],
   "source": [
    "minX= -6;\n",
    "maxX= 5;\n",
    "x= [minX: 1: maxX];\n",
    "M = length(x)\n",
    "x0= 0;\n",
    "w= 2.12;"
   ]
  },
  {
   "cell_type": "code",
   "execution_count": 7,
   "metadata": {
    "collapsed": true
   },
   "outputs": [],
   "source": [
    "A= 1.2;\n",
    "B= 2;"
   ]
  },
  {
   "cell_type": "code",
   "execution_count": 8,
   "metadata": {
    "collapsed": false
   },
   "outputs": [
    {
     "data": {
      "text/plain": [
       "31.25"
      ]
     },
     "execution_count": 8,
     "metadata": {},
     "output_type": "execute_result"
    }
   ],
   "source": [
    "n0= (100)/(A+B)"
   ]
  },
  {
   "cell_type": "code",
   "execution_count": 9,
   "metadata": {
    "collapsed": false
   },
   "outputs": [
    {
     "ename": "LoadError",
     "evalue": "LoadError: BoundsError: attempt to access 12-element Array{Int64,1}:\n -6\n -5\n -4\n -3\n -2\n -1\n  0\n  1\n  2\n  3\n  4\n  5\n  at index [-6]\nwhile loading In[9], in expression starting on line 2",
     "output_type": "error",
     "traceback": [
      "LoadError: BoundsError: attempt to access 12-element Array{Int64,1}:\n -6\n -5\n -4\n -3\n -2\n -1\n  0\n  1\n  2\n  3\n  4\n  5\n  at index [-6]\nwhile loading In[9], in expression starting on line 2",
      "",
      " in getindex at array.jl:282",
      " [inlined code] from In[9]:3",
      " in anonymous at no file:0"
     ]
    }
   ],
   "source": [
    "D= zeros(1,M)\n",
    "for k in x\n",
    "    D[k]= n0*(A*exp(-(x[k] - x0)^2 / 2*w^2) +B)\n",
    "end"
   ]
  },
  {
   "cell_type": "code",
   "execution_count": 45,
   "metadata": {
    "collapsed": false
   },
   "outputs": [
    {
     "data": {
      "text/plain": [
       "1x12 Array{Float64,2}:\n",
       " 0.0  0.0  0.0  0.0  0.0  0.0  0.0  0.0  0.0  0.0  0.0  0.0"
      ]
     },
     "execution_count": 45,
     "metadata": {},
     "output_type": "execute_result"
    }
   ],
   "source": [
    "D"
   ]
  },
  {
   "cell_type": "code",
   "execution_count": null,
   "metadata": {
    "collapsed": true
   },
   "outputs": [],
   "source": []
  }
 ],
 "metadata": {
  "kernelspec": {
   "display_name": "Julia 0.4.0",
   "language": "julia",
   "name": "julia-0.4"
  },
  "language_info": {
   "file_extension": ".jl",
   "mimetype": "application/julia",
   "name": "julia",
   "version": "0.4.0"
  }
 },
 "nbformat": 4,
 "nbformat_minor": 0
}
