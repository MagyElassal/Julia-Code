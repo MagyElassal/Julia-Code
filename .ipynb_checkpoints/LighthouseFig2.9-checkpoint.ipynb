{
 "cells": [
  {
   "cell_type": "code",
   "execution_count": 3,
   "metadata": {
    "collapsed": false
   },
   "outputs": [
    {
     "name": "stderr",
     "output_type": "stream",
     "text": [
      "WARNING: [a] concatenation is deprecated; use collect(a) instead"
     ]
    },
    {
     "data": {
      "text/plain": [
       "11-element Array{Int64,1}:\n",
       " -5\n",
       " -4\n",
       " -3\n",
       " -2\n",
       " -1\n",
       "  0\n",
       "  1\n",
       "  2\n",
       "  3\n",
       "  4\n",
       "  5"
      ]
     },
     "execution_count": 3,
     "metadata": {},
     "output_type": "execute_result"
    },
    {
     "name": "stderr",
     "output_type": "stream",
     "text": [
      "\n",
      " in depwarn at deprecated.jl:73\n",
      " in oldstyle_vcat_warning at abstractarray.jl:29\n",
      " in vect at abstractarray.jl:32\n",
      " in include_string at loading.jl:266\n",
      " in execute_request_0x535c5df2 at C:\\Users\\Magy\\.julia\\v0.4\\IJulia\\src\\execute_request.jl:177\n",
      " in eventloop at C:\\Users\\Magy\\.julia\\v0.4\\IJulia\\src\\IJulia.jl:141\n",
      " in anonymous at task.jl:447\n",
      "while loading In[3], in expression starting on line 6\n"
     ]
    }
   ],
   "source": [
    "N=1;\n",
    "minR = -pi/2;\n",
    "maxR= pi/2;\n",
    "theta=  (minR + rand(1,N))/(maxR-minR);\n",
    "beta= 1;\n",
    "alfa= [-5:1:5]"
   ]
  },
  {
   "cell_type": "code",
   "execution_count": 4,
   "metadata": {
    "collapsed": false
   },
   "outputs": [
    {
     "data": {
      "text/plain": [
       "11x1 Array{Float64,2}:\n",
       " -5.25458 \n",
       " -4.25458 \n",
       " -3.25458 \n",
       " -2.25458 \n",
       " -1.25458 \n",
       " -0.254585\n",
       "  0.745415\n",
       "  1.74542 \n",
       "  2.74542 \n",
       "  3.74542 \n",
       "  4.74542 "
      ]
     },
     "execution_count": 4,
     "metadata": {},
     "output_type": "execute_result"
    }
   ],
   "source": [
    "x= beta .* tan(theta) .+ alfa"
   ]
  },
  {
   "cell_type": "code",
   "execution_count": 13,
   "metadata": {
    "collapsed": false
   },
   "outputs": [
    {
     "name": "stdout",
     "output_type": "stream",
     "text": [
      "search: "
     ]
    },
    {
     "data": {
      "text/latex": [
       "\\begin{verbatim}\n",
       "sum(A, dims)\n",
       "\\end{verbatim}\n",
       "Sum elements of an array over the given dimensions.\n",
       "\\begin{verbatim}\n",
       "sum(itr)\n",
       "\\end{verbatim}\n",
       "Returns the sum of all elements in a collection.\n",
       "\\begin{verbatim}\n",
       "sum(f, itr)\n",
       "\\end{verbatim}\n",
       "Sum the results of calling function \\texttt{f} on each element of \\texttt{itr}.\n"
      ],
      "text/markdown": [
       "```\n",
       "sum(A, dims)\n",
       "```\n",
       "\n",
       "Sum elements of an array over the given dimensions.\n",
       "\n",
       "```\n",
       "sum(itr)\n",
       "```\n",
       "\n",
       "Returns the sum of all elements in a collection.\n",
       "\n",
       "```\n",
       "sum(f, itr)\n",
       "```\n",
       "\n",
       "Sum the results of calling function `f` on each element of `itr`.\n"
      ],
      "text/plain": [
       "```\n",
       "sum(A, dims)\n",
       "```\n",
       "\n",
       "Sum elements of an array over the given dimensions.\n",
       "\n",
       "```\n",
       "sum(itr)\n",
       "```\n",
       "\n",
       "Returns the sum of all elements in a collection.\n",
       "\n",
       "```\n",
       "sum(f, itr)\n",
       "```\n",
       "\n",
       "Sum the results of calling function `f` on each element of `itr`.\n"
      ]
     },
     "execution_count": 13,
     "metadata": {},
     "output_type": "execute_result"
    },
    {
     "name": "stdout",
     "output_type": "stream",
     "text": [
      "sum sum! sumabs summary sumabs2 sumabs! sum_kbn sumabs2! cumsum cumsum!\n",
      "\n"
     ]
    }
   ],
   "source": [
    "?sum\n"
   ]
  },
  {
   "cell_type": "code",
   "execution_count": 14,
   "metadata": {
    "collapsed": false
   },
   "outputs": [
    {
     "name": "stdout",
     "output_type": "stream",
     "text": [
      "search:"
     ]
    },
    {
     "data": {
      "text/latex": [
       "\\begin{verbatim}\n",
       "log(b,x)\n",
       "\\end{verbatim}\n",
       "Compute the base \\texttt{b} logarithm of \\texttt{x}. Throws \\texttt{DomainError} for negative \\texttt{Real} arguments.\n",
       "\\begin{verbatim}\n",
       "log(x)\n",
       "\\end{verbatim}\n",
       "Compute the natural logarithm of \\texttt{x}. Throws \\texttt{DomainError} for negative \\texttt{Real} arguments. Use complex negative arguments to obtain complex results.\n",
       "There is an experimental variant in the \\texttt{Base.Math.JuliaLibm} module, which is typically faster and more accurate.\n"
      ],
      "text/markdown": [
       "```\n",
       "log(b,x)\n",
       "```\n",
       "\n",
       "Compute the base `b` logarithm of `x`. Throws `DomainError` for negative `Real` arguments.\n",
       "\n",
       "```\n",
       "log(x)\n",
       "```\n",
       "\n",
       "Compute the natural logarithm of `x`. Throws `DomainError` for negative `Real` arguments. Use complex negative arguments to obtain complex results.\n",
       "\n",
       "There is an experimental variant in the `Base.Math.JuliaLibm` module, which is typically faster and more accurate.\n"
      ],
      "text/plain": [
       "```\n",
       "log(b,x)\n",
       "```\n",
       "\n",
       "Compute the base `b` logarithm of `x`. Throws `DomainError` for negative `Real` arguments.\n",
       "\n",
       "```\n",
       "log(x)\n",
       "```\n",
       "\n",
       "Compute the natural logarithm of `x`. Throws `DomainError` for negative `Real` arguments. Use complex negative arguments to obtain complex results.\n",
       "\n",
       "There is an experimental variant in the `Base.Math.JuliaLibm` module, which is typically faster and more accurate.\n"
      ]
     },
     "execution_count": 14,
     "metadata": {},
     "output_type": "execute_result"
    },
    {
     "name": "stdout",
     "output_type": "stream",
     "text": [
      " log logm log2 log1p log10 logdet logspace logabsdet Clong Clonglong\n",
      "\n"
     ]
    }
   ],
   "source": [
    "?log"
   ]
  },
  {
   "cell_type": "code",
   "execution_count": 5,
   "metadata": {
    "collapsed": false
   },
   "outputs": [
    {
     "data": {
      "text/plain": [
       "11x1 Array{Float64,2}:\n",
       " -0.0627996\n",
       " -0.0627996\n",
       " -0.0627996\n",
       " -0.0627996\n",
       " -0.0627996\n",
       " -0.0627996\n",
       " -0.0627996\n",
       " -0.0627996\n",
       " -0.0627996\n",
       " -0.0627996\n",
       " -0.0627996"
      ]
     },
     "execution_count": 5,
     "metadata": {},
     "output_type": "execute_result"
    }
   ],
   "source": [
    "L= - (log(beta^2 + (x - alfa).^2))"
   ]
  },
  {
   "cell_type": "code",
   "execution_count": 1,
   "metadata": {
    "collapsed": false
   },
   "outputs": [],
   "source": [
    "using PyPlot"
   ]
  },
  {
   "cell_type": "code",
   "execution_count": 6,
   "metadata": {
    "collapsed": false
   },
   "outputs": [
    {
     "data": {
      "image/png": "[encoded data removed]",
      "text/plain": [
       "PyPlot.Figure(PyObject <matplotlib.figure.Figure object at 0x000000002212FA58>)"
      ]
     },
     "metadata": {},
     "output_type": "display_data"
    },
    {
     "data": {
      "text/plain": [
       "1-element Array{Any,1}:\n",
       " PyObject <matplotlib.lines.Line2D object at 0x000000002522FF98>"
      ]
     },
     "execution_count": 6,
     "metadata": {},
     "output_type": "execute_result"
    }
   ],
   "source": [
    "plot(alfa,L)"
   ]
  },
  {
   "cell_type": "code",
   "execution_count": 7,
   "metadata": {
    "collapsed": false
   },
   "outputs": [
    {
     "data": {
      "text/plain": [
       "-0.06279961018348088"
      ]
     },
     "execution_count": 7,
     "metadata": {},
     "output_type": "execute_result"
    }
   ],
   "source": [
    "getMaxL= maximum(L)"
   ]
  },
  {
   "cell_type": "code",
   "execution_count": null,
   "metadata": {
    "collapsed": true
   },
   "outputs": [],
   "source": []
  }
 ],
 "metadata": {
  "kernelspec": {
   "display_name": "Julia 0.4.0",
   "language": "julia",
   "name": "julia-0.4"
  },
  "language_info": {
   "file_extension": ".jl",
   "mimetype": "application/julia",
   "name": "julia",
   "version": "0.4.0"
  }
 },
 "nbformat": 4,
 "nbformat_minor": 0
}
