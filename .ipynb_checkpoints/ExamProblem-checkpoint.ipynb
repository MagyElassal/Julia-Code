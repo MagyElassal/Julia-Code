{
 "cells": [
  {
   "cell_type": "code",
   "execution_count": 1,
   "metadata": {
    "collapsed": false
   },
   "outputs": [
    {
     "data": {
      "text/html": [
       "<script charset=\"utf-8\">(function ($, undefined) {\n",
       "\n",
       "    function createElem(tag, attr, content) {\n",
       "\t// TODO: remove jQuery dependency\n",
       "\tvar el = $(\"<\" + tag + \"/>\").attr(attr);\n",
       "\tif (content) {\n",
       "\t    el.append(content);\n",
       "\t}\n",
       "\treturn el[0];\n",
       "    }\n",
       "\n",
       "    // A widget must expose an id field which identifies it to the backend,\n",
       "    // an elem attribute which is will be added to the DOM, and\n",
       "    // a getState() method which returns the value to be sent to the backend\n",
       "    // a sendUpdate() method which sends its current value to the backend\n",
       "    var Widget = {\n",
       "\tid: undefined,\n",
       "\telem: undefined,\n",
       "\tlabel: undefined,\n",
       "\tgetState: function () {\n",
       "\t    return this.elem.value;\n",
       "\t},\n",
       "\tsendUpdate: undefined\n",
       "    };\n",
       "\n",
       "    var Slider = function (typ, id, init) {\n",
       "\tvar attr = { type:  \"range\",\n",
       "\t\t     value: init.value,\n",
       "\t\t     min:   init.min,\n",
       "\t\t     max:   init.max,\n",
       "\t\t     step:  init.step },\n",
       "\t    elem = createElem(\"input\", attr),\n",
       "\t    self = this;\n",
       "\n",
       "\telem.onchange = function () {\n",
       "\t    self.sendUpdate();\n",
       "\t}\n",
       "\n",
       "\tthis.id = id;\n",
       "\tthis.elem = elem;\n",
       "\tthis.label = init.label;\n",
       "\n",
       "\tInputWidgets.commInitializer(this); // Initialize communication\n",
       "    }\n",
       "    Slider.prototype = Widget;\n",
       "\n",
       "    var Checkbox = function (typ, id, init) {\n",
       "\tvar attr = { type: \"checkbox\",\n",
       "\t\t     checked: init.value },\n",
       "\t    elem = createElem(\"input\", attr),\n",
       "\t    self = this;\n",
       "\n",
       "\tthis.getState = function () {\n",
       "\t    return elem.checked;\n",
       "\t}\n",
       "\telem.onchange = function () {\n",
       "\t    self.sendUpdate();\n",
       "\t}\n",
       "\n",
       "\tthis.id = id;\n",
       "\tthis.elem = elem;\n",
       "\tthis.label = init.label;\n",
       "\n",
       "\tInputWidgets.commInitializer(this);\n",
       "    }\n",
       "    Checkbox.prototype = Widget;\n",
       "\n",
       "    var Button = function (typ, id, init) {\n",
       "\tvar attr = { type:    \"button\",\n",
       "\t\t     value:   init.label },\n",
       "\t    elem = createElem(\"input\", attr),\n",
       "\t    self = this;\n",
       "\tthis.getState = function () {\n",
       "\t    return null;\n",
       "\t}\n",
       "\telem.onclick = function () {\n",
       "\t    self.sendUpdate();\n",
       "\t}\n",
       "\n",
       "\tthis.id = id;\n",
       "\tthis.elem = elem;\n",
       "\tthis.label = init.label;\n",
       "\n",
       "\tInputWidgets.commInitializer(this);\n",
       "    }\n",
       "    Button.prototype = Widget;\n",
       "\n",
       "    var Text = function (typ, id, init) {\n",
       "\tvar attr = { type:  \"text\",\n",
       "\t\t     placeholder: init.label,\n",
       "\t\t     value: init.value },\n",
       "\t    elem = createElem(\"input\", attr),\n",
       "\t    self = this;\n",
       "\tthis.getState = function () {\n",
       "\t    return elem.value;\n",
       "\t}\n",
       "\telem.onkeyup = function () {\n",
       "\t    self.sendUpdate();\n",
       "\t}\n",
       "\n",
       "\tthis.id = id;\n",
       "\tthis.elem = elem;\n",
       "\tthis.label = init.label;\n",
       "\n",
       "\tInputWidgets.commInitializer(this);\n",
       "    }\n",
       "    Text.prototype = Widget;\n",
       "\n",
       "    var Textarea = function (typ, id, init) {\n",
       "\tvar attr = { placeholder: init.label },\n",
       "\t    elem = createElem(\"textarea\", attr, init.value),\n",
       "\t    self = this;\n",
       "\tthis.getState = function () {\n",
       "\t    return elem.value;\n",
       "\t}\n",
       "\telem.onchange = function () {\n",
       "\t    self.sendUpdate();\n",
       "\t}\n",
       "\n",
       "\tthis.id = id;\n",
       "\tthis.elem = elem;\n",
       "\tthis.label = init.label;\n",
       "\n",
       "\tInputWidgets.commInitializer(this);\n",
       "    }\n",
       "    Textarea.prototype = Widget;\n",
       "\n",
       "    // RadioButtons\n",
       "    // Dropdown\n",
       "    // HTML\n",
       "    // Latex\n",
       "\n",
       "    var InputWidgets = {\n",
       "\tSlider: Slider,\n",
       "\tCheckbox: Checkbox,\n",
       "\tButton: Button,\n",
       "\tText: Text,\n",
       "\tTextarea: Textarea,\n",
       "\tdebug: false,\n",
       "\tlog: function () {\n",
       "\t    if (InputWidgets.debug) {\n",
       "\t\tconsole.log.apply(console, arguments);\n",
       "\t    }\n",
       "\t},\n",
       "\t// a central way to initalize communication\n",
       "\t// for widgets.\n",
       "\tcommInitializer: function (widget) {\n",
       "\t    widget.sendUpdate = function () {};\n",
       "\t}\n",
       "    };\n",
       "\n",
       "    window.InputWidgets = InputWidgets;\n",
       "\n",
       "})(jQuery, undefined);\n",
       "</script>"
      ]
     },
     "metadata": {},
     "output_type": "display_data"
    },
    {
     "data": {
      "text/html": [
       "<div id=\"interact-js-shim\">\n",
       "    <script charset=\"utf-8\">\n",
       "(function (IPython, $, _, MathJax, Widgets) {\n",
       "    $.event.special.destroyed = {\n",
       "\tremove: function(o) {\n",
       "\t    if (o.handler) {\n",
       "\t\to.handler.apply(this, arguments)\n",
       "\t    }\n",
       "\t}\n",
       "    }\n",
       "\n",
       "    var OutputArea = IPython.version >= \"4.0.0\" ? require(\"notebook/js/outputarea\").OutputArea : IPython.OutputArea;\n",
       "\n",
       "    var redrawValue = function (container, type, val) {\n",
       "\tvar selector = $(\"<div/>\");\n",
       "\tvar oa = new OutputArea(_.extend(selector, {\n",
       "\t    selector: selector,\n",
       "\t    prompt_area: true,\n",
       "\t    events: IPython.events,\n",
       "\t    keyboard_manager: IPython.keyboard_manager\n",
       "\t})); // Hack to work with IPython 2.1.0\n",
       "\n",
       "\tswitch (type) {\n",
       "\tcase \"image/png\":\n",
       "            var _src = 'data:' + type + ';base64,' + val;\n",
       "\t    $(container).find(\"img\").attr('src', _src);\n",
       "\t    break;\n",
       "\tdefault:\n",
       "\t    var toinsert = OutputArea.append_map[type].apply(\n",
       "\t\toa, [val, {}, selector]\n",
       "\t    );\n",
       "\t    $(container).empty().append(toinsert.contents());\n",
       "\t    selector.remove();\n",
       "\t}\n",
       "\tif (type === \"text/latex\" && MathJax) {\n",
       "\t    MathJax.Hub.Queue([\"Typeset\", MathJax.Hub, toinsert.get(0)]);\n",
       "\t}\n",
       "    }\n",
       "\n",
       "\n",
       "    $(document).ready(function() {\n",
       "\tWidgets.debug = false; // log messages etc in console.\n",
       "\tfunction initComm(evt, data) {\n",
       "\t    var comm_manager = data.kernel.comm_manager;\n",
       "        //_.extend(comm_manager.targets, require(\"widgets/js/widget\"))\n",
       "\t    comm_manager.register_target(\"Signal\", function (comm) {\n",
       "            comm.on_msg(function (msg) {\n",
       "                //Widgets.log(\"message received\", msg);\n",
       "                var val = msg.content.data.value;\n",
       "                $(\".signal-\" + comm.comm_id).each(function() {\n",
       "                var type = $(this).data(\"type\");\n",
       "                if (val[type]) {\n",
       "                    redrawValue(this, type, val[type], type);\n",
       "                }\n",
       "                });\n",
       "                delete val;\n",
       "                delete msg.content.data.value;\n",
       "            });\n",
       "\t    });\n",
       "\n",
       "\t    // coordingate with Comm and redraw Signals\n",
       "\t    // XXX: Test using Reactive here to improve performance\n",
       "\t    $([IPython.events]).on(\n",
       "\t\t'output_appended.OutputArea', function (event, type, value, md, toinsert) {\n",
       "\t\t    if (md && md.reactive) {\n",
       "                // console.log(md.comm_id);\n",
       "                toinsert.addClass(\"signal-\" + md.comm_id);\n",
       "                toinsert.data(\"type\", type);\n",
       "                // Signal back indicating the mimetype required\n",
       "                var comm_manager = IPython.notebook.kernel.comm_manager;\n",
       "                var comm = comm_manager.comms[md.comm_id];\n",
       "                comm.then(function (c) {\n",
       "                    c.send({action: \"subscribe_mime\",\n",
       "                       mime: type});\n",
       "                    toinsert.bind(\"destroyed\", function() {\n",
       "                        c.send({action: \"unsubscribe_mime\",\n",
       "                               mime: type});\n",
       "                    });\n",
       "                })\n",
       "\t\t    }\n",
       "\t    });\n",
       "\t}\n",
       "\n",
       "\ttry {\n",
       "\t    // try to initialize right away. otherwise, wait on the status_started event.\n",
       "\t    initComm(undefined, IPython.notebook);\n",
       "\t} catch (e) {\n",
       "\t    $([IPython.events]).on('kernel_created.Kernel kernel_created.Session', initComm);\n",
       "\t}\n",
       "    });\n",
       "})(IPython, jQuery, _, MathJax, InputWidgets);\n",
       "</script>\n",
       "    <script>\n",
       "        window.interactLoadedFlag = true\n",
       "       $(\"#interact-js-shim\").bind(\"destroyed\", function () {\n",
       "           if (window.interactLoadedFlag) {\n",
       "               console.warn(\"JavaScript required by Interact will be removed if you remove this cell or run using Interact more than once.\")\n",
       "           }\n",
       "       })\n",
       "       $([IPython.events]).on(\"kernel_starting.Kernel kernel_restarting.Kernel\", function () { window.interactLoadedFlag = false })\n",
       "   </script>\n",
       "</div>"
      ]
     },
     "metadata": {},
     "output_type": "display_data"
    },
    {
     "name": "stderr",
     "output_type": "stream",
     "text": [
      "WARNING: Base.FloatingPoint is deprecated, use AbstractFloat instead.\n",
      "  likely near C:\\Users\\Magy\\.julia\\v0.4\\Interact\\src\\IJulia/setup.jl:153\n",
      "WARNING: Base.FloatingPoint is deprecated, use AbstractFloat instead.\n",
      "  likely near C:\\Users\\Magy\\.julia\\v0.4\\Interact\\src\\IJulia/setup.jl:157\n",
      "WARNING: Union(args...) is deprecated, use Union{args...} instead.\n",
      " in "
     ]
    }
   ],
   "source": [
    "using PyPlot\n",
    "using Interact"
   ]
  },
  {
   "cell_type": "code",
   "execution_count": 2,
   "metadata": {
    "collapsed": false
   },
   "outputs": [
    {
     "data": {
      "text/plain": [
       "600-element Array{Float64,1}:\n",
       "    7.17772  \n",
       "  -51.9089   \n",
       "    6.69019  \n",
       "    5.93273  \n",
       "  -35.4759   \n",
       "   21.1757   \n",
       "    0.0954647\n",
       "    9.30026  \n",
       "    5.17159  \n",
       "    3.31594  \n",
       " -196.089    \n",
       "    2.8774   \n",
       "  -12.1313   \n",
       "    ⋮        \n",
       "  -15.9887   \n",
       "    2.73     \n",
       "    4.84003  \n",
       "    3.59225  \n",
       "   17.1953   \n",
       "    1.91549  \n",
       "   -3.96376  \n",
       "    3.26414  \n",
       "    1.68398  \n",
       "    0.887682 \n",
       "    0.64517  \n",
       "  -62.7002   "
      ]
     },
     "execution_count": 2,
     "metadata": {},
     "output_type": "execute_result"
    },
    {
     "name": "stderr",
     "output_type": "stream",
     "text": [
      "depwarn at deprecated.jl:73\n",
      " in call at deprecated.jl:50\n",
      " in include at boot.jl:261\n",
      " in include_from_node1 at loading.jl:304\n",
      " in include at boot.jl:261\n",
      " in include_from_node1 at loading.jl:304\n",
      " in include at boot.jl:261\n",
      " in include_from_node1 at loading.jl:304\n",
      " in require at loading.jl:243\n",
      " in include_string at loading.jl:266\n",
      " in execute_request_0x535c5df2 at C:\\Users\\Magy\\.julia\\v0.4\\IJulia\\src\\execute_request.jl:177\n",
      " in eventloop at C:\\Users\\Magy\\.julia\\v0.4\\IJulia\\src\\IJulia.jl:141\n",
      " in anonymous at task.jl:447\n",
      "while loading C:\\Users\\Magy\\.julia\\v0.4\\Interact\\src\\IJulia\\statedict.jl, in expression starting on line 1\n"
     ]
    }
   ],
   "source": [
    "Data= [7.177722513\n",
    "-51.90887667\n",
    "6.690186862\n",
    "5.932729759\n",
    "-35.47589558\n",
    "21.17572338\n",
    "0.095464694\n",
    "9.300263892\n",
    "5.171590183\n",
    "3.315938768\n",
    "-196.0890651\n",
    "2.877402387\n",
    "-12.13133355\n",
    "5.827547418\n",
    "0.138644021\n",
    "22.57990924\n",
    "7.00971979\n",
    "-6.286532665\n",
    "-10.53946892\n",
    "19.04339308\n",
    "17.80924159\n",
    "6.070130041\n",
    "8.891298034\n",
    "-17.61922399\n",
    "-6.318375471\n",
    "18.3689336\n",
    "0.122889338\n",
    "11.90823628\n",
    "2.263436596\n",
    "1.522074025\n",
    "0.605282536\n",
    "-9.291791658\n",
    "-2.791817783\n",
    "-1.784861769\n",
    "4.564256014\n",
    "30.25713197\n",
    "7.377427601\n",
    "5.685488789\n",
    "4.724020317\n",
    "-11.87693348\n",
    "33.70408411\n",
    "-1.355700245\n",
    "11.17720907\n",
    "135.1965784\n",
    "3.915521423\n",
    "6.041556503\n",
    "1.14815767\n",
    "-7.078982207\n",
    "0.138157382\n",
    "-9.814921254\n",
    "10.1698201\n",
    "51.80334395\n",
    "0.911010275\n",
    "2.779043152\n",
    "3.662957206\n",
    "10.59664704\n",
    "1.574916828\n",
    "11.83807301\n",
    "-13.74318513\n",
    "8.058373195\n",
    "7.834139561\n",
    "2.485930244\n",
    "3.25297588\n",
    "55.55505436\n",
    "6.051464542\n",
    "4.675224357\n",
    "-77.31557771\n",
    "4.558854485\n",
    "14.44617405\n",
    "5.024888274\n",
    "1.748690498\n",
    "1.640500819\n",
    "-1.532369384\n",
    "-5.620399572\n",
    "3.479077769\n",
    "-21.14622111\n",
    "0.462213024\n",
    "20.65410837\n",
    "-112.8358523\n",
    "-4.507415128\n",
    "13.45918897\n",
    "22.01027974\n",
    "-0.253687793\n",
    "-1.885241993\n",
    "1.561779566\n",
    "-2.444215999\n",
    "-2.794822345\n",
    "-12.83412052\n",
    "-0.137355813\n",
    "2.094532064\n",
    "4.008886317\n",
    "8.767711189\n",
    "0.149627438\n",
    "54.28973779\n",
    "-11.42743457\n",
    "8.503977386\n",
    "0.036236169\n",
    "3.052774859\n",
    "-0.443948711\n",
    "16.93703937\n",
    "0.520223037\n",
    "-7.906633591\n",
    "1.109101727\n",
    "5.823273573\n",
    "6.452706909\n",
    "-28.26674057\n",
    "2.777115912\n",
    "2.571911843\n",
    "0.788245369\n",
    "-3.777359621\n",
    "1.44820303\n",
    "50.06357981\n",
    "2.829792128\n",
    "4.83743308\n",
    "1.47875205\n",
    "-41.46104872\n",
    "3.681302883\n",
    "-9.513549059\n",
    "4.214153833\n",
    "7.899991028\n",
    "-13.03695814\n",
    "-8.741136181\n",
    "2.69863332\n",
    "0.955266377\n",
    "-6.943021262\n",
    "22.81023078\n",
    "8.436663034\n",
    "-2.442533548\n",
    "0.065849074\n",
    "-4.661742943\n",
    "2.309135314\n",
    "4.651247988\n",
    "3.636958059\n",
    "81.04390103\n",
    "-31.9930055\n",
    "-117.760018\n",
    "-2.42471625\n",
    "3.045458432\n",
    "3.090759027\n",
    "8.773420928\n",
    "5.247614728\n",
    "19.44351141\n",
    "5.127343494\n",
    "2.664921417\n",
    "8.14247282\n",
    "-1.525829711\n",
    "2.029907742\n",
    "13.89335275\n",
    "-23.08998874\n",
    "2.805726935\n",
    "22.89463639\n",
    "-25.64555643\n",
    "9.900850866\n",
    "-0.441886806\n",
    "5.894652296\n",
    "21.27650287\n",
    "2.448107089\n",
    "-0.088759128\n",
    "11.05643302\n",
    "3.798652035\n",
    "4.470599172\n",
    "8.271526609\n",
    "0.470327962\n",
    "4.662162184\n",
    "-15.80824038\n",
    "4.989854077\n",
    "-0.339632256\n",
    "1.232904601\n",
    "-23.71955288\n",
    "6.578613414\n",
    "3.102207809\n",
    "10.04245047\n",
    "-6.760425311\n",
    "0.62158554\n",
    "11.4653805\n",
    "6.669715387\n",
    "10.06012865\n",
    "-4.265373351\n",
    "-0.65499574\n",
    "-3.004059266\n",
    "2.653005368\n",
    "-13.03444194\n",
    "47.55449156\n",
    "24.76426353\n",
    "0.072326586\n",
    "-29.16385859\n",
    "15.02615593\n",
    "2.787331371\n",
    "6.913447995\n",
    "1.777166926\n",
    "-7.354942006\n",
    "3.871142882\n",
    "4.234284368\n",
    "3.363939658\n",
    "9.916990065\n",
    "0.35383533\n",
    "-2.20362975\n",
    "-126.4242307\n",
    "3.123199953\n",
    "1.711346313\n",
    "5.00511857\n",
    "-40.37188123\n",
    "-0.142640296\n",
    "2.362850354\n",
    "2.331814702\n",
    "6.893082887\n",
    "3.224359173\n",
    "-4.618589156\n",
    "5.854353756\n",
    "1.299351383\n",
    "6.614060151\n",
    "0.06510781\n",
    "4.783581165\n",
    "-3.01692509\n",
    "1.253473957\n",
    "1.431955069\n",
    "0.093486672\n",
    "-0.459033132\n",
    "-19.16869145\n",
    "2.050740431\n",
    "-7.383046096\n",
    "3.295433268\n",
    "2.796797711\n",
    "2.4558616\n",
    "5.490835102\n",
    "7.208106141\n",
    "4.571641048\n",
    "1.738175883\n",
    "18.9064178\n",
    "-3.690410141\n",
    "2.068708687\n",
    "18.1818323\n",
    "-23.08517234\n",
    "17.88340915\n",
    "-1.673045643\n",
    "-3.727874154\n",
    "1.522482865\n",
    "-7.020798892\n",
    "4.841881918\n",
    "28.17355404\n",
    "-0.637585484\n",
    "-7.593884324\n",
    "14.63498179\n",
    "-2.700726362\n",
    "-2.892099175\n",
    "1.117635755\n",
    "2.095365343\n",
    "-171.1072675\n",
    "20.6967294\n",
    "-2.424285711\n",
    "6.539129702\n",
    "-51.98986214\n",
    "-27.9916972\n",
    "8.037750577\n",
    "-12.32380439\n",
    "56.26158996\n",
    "4.678276069\n",
    "-36.71084175\n",
    "-15.7886049\n",
    "0.446533422\n",
    "2.867256153\n",
    "8.00231064\n",
    "1.809732205\n",
    "-0.435048876\n",
    "47.95545449\n",
    "21.41798955\n",
    "-3.602517741\n",
    "9.577658733\n",
    "2.629119804\n",
    "-3.465455521\n",
    "-3.673843037\n",
    "-7.252704925\n",
    "-0.28090098\n",
    "-0.167969738\n",
    "1.952312327\n",
    "6.798449514\n",
    "6.119421882\n",
    "-29.32993543\n",
    "-0.543867054\n",
    "322.9336109\n",
    "-2.246152787\n",
    "11.58950764\n",
    "-4.530538584\n",
    "-7.723594917\n",
    "-2.543155423\n",
    "-0.54496369\n",
    "0.054800087\n",
    "8.665187341\n",
    "-0.997361664\n",
    "3.921224472\n",
    "-0.903642461\n",
    "4.687129364\n",
    "-13.70189238\n",
    "4.441919125\n",
    "-1.007609916\n",
    "-18.03965776\n",
    "0.952363399\n",
    "4.033864566\n",
    "-2.974719374\n",
    "-5.000851428\n",
    "5.643030287\n",
    "-1.170386139\n",
    "-17.98631647\n",
    "5.799967923\n",
    "-4.891794269\n",
    "-20.4656423\n",
    "4.044924585\n",
    "20.22519953\n",
    "0.190756192\n",
    "11.60473479\n",
    "1.747724768\n",
    "4.527995566\n",
    "0.298895182\n",
    "1.963129737\n",
    "8.61465853\n",
    "4.027497246\n",
    "0.732898699\n",
    "-10.60082318\n",
    "33.47652507\n",
    "6.009226474\n",
    "8.794821841\n",
    "0.253190038\n",
    "-1.265130995\n",
    "-11.18460261\n",
    "11.4220406\n",
    "3.458052653\n",
    "8.26647635\n",
    "4.781906631\n",
    "-3.041824633\n",
    "-171.6454387\n",
    "-57.60441447\n",
    "7.375650838\n",
    "-7.657494332\n",
    "0.703919361\n",
    "1.104843425\n",
    "2.396366345\n",
    "4.958788349\n",
    "29.53824398\n",
    "-7.902629512\n",
    "-4.902983041\n",
    "-12.40566995\n",
    "15.22254249\n",
    "8.628612566\n",
    "3.518696477\n",
    "-1.518307799\n",
    "22.85643086\n",
    "2.792795863\n",
    "4.965872113\n",
    "-12.4039263\n",
    "-3.849605218\n",
    "3.916686775\n",
    "-0.505715419\n",
    "-2.436630053\n",
    "5.634342167\n",
    "2.702865999\n",
    "-13.72166139\n",
    "-131.2812608\n",
    "3.808609987\n",
    "2.584912036\n",
    "-0.800134654\n",
    "4.130007475\n",
    "-3.032734943\n",
    "5.02785583\n",
    "4.515038395\n",
    "9.253130252\n",
    "1.565227486\n",
    "0.490455256\n",
    "-2.631317562\n",
    "0.738428664\n",
    "7.79888288\n",
    "-0.366386967\n",
    "-0.218367992\n",
    "-2.113042853\n",
    "-47.83520462\n",
    "-0.354917296\n",
    "10.31239697\n",
    "10.12180418\n",
    "-2.480441126\n",
    "-11.22044625\n",
    "2.367224901\n",
    "-3.611743503\n",
    "-0.920897802\n",
    "12.35736614\n",
    "-19.25578917\n",
    "3.264938247\n",
    "3.476559638\n",
    "4.773628568\n",
    "1.443656677\n",
    "10.38334323\n",
    "7.620876657\n",
    "-0.462732039\n",
    "1.447159713\n",
    "8.424772244\n",
    "13.34998168\n",
    "3.11357406\n",
    "4.164524305\n",
    "0.627102241\n",
    "-9.952504815\n",
    "0.912689482\n",
    "-11.21749086\n",
    "3.835452401\n",
    "0.335534944\n",
    "5.277533174\n",
    "-1.595043443\n",
    "-0.564825341\n",
    "1.615351903\n",
    "3.431248388\n",
    "3.50534907\n",
    "-72.72264202\n",
    "-1.749898886\n",
    "-1.509886449\n",
    "11.72087377\n",
    "1.865185944\n",
    "23.89912244\n",
    "7.73178473\n",
    "1.124421589\n",
    "5.117140073\n",
    "3.806278461\n",
    "3.779497983\n",
    "-11.11533819\n",
    "14.13085482\n",
    "4.815584161\n",
    "1.975938111\n",
    "12.32568559\n",
    "-10.92627578\n",
    "-33.06568047\n",
    "4.158744746\n",
    "62.74114542\n",
    "5.729286673\n",
    "-44.10062906\n",
    "4.467349443\n",
    "2.077958175\n",
    "0.103446078\n",
    "-8.30179015\n",
    "3.283817036\n",
    "2.368588527\n",
    "6.092243085\n",
    "-2.590854177\n",
    "3.103695096\n",
    "29.5341639\n",
    "4.984922172\n",
    "1.820282758\n",
    "9.194359836\n",
    "13.7407925\n",
    "4.967945819\n",
    "-0.587756778\n",
    "-3.94028436\n",
    "1.491391206\n",
    "3.601193468\n",
    "12.86832411\n",
    "0.030298511\n",
    "6.366409687\n",
    "-1.671405532\n",
    "3.216146731\n",
    "1.306999126\n",
    "61.00607096\n",
    "4.515383565\n",
    "-1.190086261\n",
    "0.443924888\n",
    "7.979928249\n",
    "1.133309672\n",
    "-1.737914775\n",
    "3.946507232\n",
    "14.2828014\n",
    "3.13380723\n",
    "-0.905556772\n",
    "13.25513807\n",
    "-0.386834866\n",
    "-2.579622066\n",
    "4.795903683\n",
    "0.974962534\n",
    "5.010725798\n",
    "-7.263699419\n",
    "7.108694488\n",
    "-0.176742368\n",
    "3.453405165\n",
    "5.870917633\n",
    "7.021444879\n",
    "-45.39467584\n",
    "0.178489151\n",
    "-11.12626226\n",
    "4.437498534\n",
    "7.530676665\n",
    "3.017007775\n",
    "2.693674018\n",
    "1.751840479\n",
    "4.100956293\n",
    "5.964428782\n",
    "3.845653406\n",
    "3.890175769\n",
    "11.13545132\n",
    "12.17042349\n",
    "1.738263586\n",
    "-9.368587131\n",
    "0.799197452\n",
    "0.558152911\n",
    "5.857411607\n",
    "0.589623275\n",
    "5.002663149\n",
    "-0.80279875\n",
    "3.224644834\n",
    "23.37473981\n",
    "-9.407153941\n",
    "4.212050335\n",
    "1.415751181\n",
    "1.047975775\n",
    "9.880802291\n",
    "14.18011497\n",
    "-18.30583359\n",
    "-5.247282203\n",
    "1.085722303\n",
    "8.145191406\n",
    "-6.19684007\n",
    "1.2826721\n",
    "-15.39367617\n",
    "2.505232036\n",
    "-7.061833319\n",
    "5.967174115\n",
    "8.133206353\n",
    "6.110381333\n",
    "-7.375662205\n",
    "-18.46286711\n",
    "3.300831566\n",
    "3.464151713\n",
    "-0.653478945\n",
    "-3.437092351\n",
    "3.525888202\n",
    "1.916047178\n",
    "2.430756535\n",
    "1.80467912\n",
    "-0.366506075\n",
    "3.033926328\n",
    "-3.645613042\n",
    "-0.555206362\n",
    "-15.69225074\n",
    "39.20124232\n",
    "0.727560521\n",
    "47.81145199\n",
    "14.423845\n",
    "-0.013883124\n",
    "3.263391339\n",
    "1.662138626\n",
    "21.79060614\n",
    "-0.244834198\n",
    "5.017233623\n",
    "2.984902299\n",
    "-137.9643751\n",
    "-63.8779214\n",
    "0.142001497\n",
    "-0.87762296\n",
    "0.446453213\n",
    "18.01488368\n",
    "-4.979696414\n",
    "-0.307993544\n",
    "-0.046513281\n",
    "7.154668288\n",
    "197.3695891\n",
    "70.56547455\n",
    "-2.409294105\n",
    "3.772883712\n",
    "-8.498664917\n",
    "18.66054507\n",
    "14.80041977\n",
    "7.777316855\n",
    "18.01147435\n",
    "-3.82129743\n",
    "-0.847896118\n",
    "3.724313805\n",
    "-4.99158086\n",
    "11.35458683\n",
    "3.304838635\n",
    "-8.707006172\n",
    "-2.837123796\n",
    "2.345255625\n",
    "10.32798102\n",
    "3.864583869\n",
    "17.50453244\n",
    "-2.425233196\n",
    "-8.33397717\n",
    "1.432150525\n",
    "2.550553796\n",
    "1.990232812\n",
    "8.747575529\n",
    "-2.240462787\n",
    "7.160950276\n",
    "103.04464\n",
    "4.036566969\n",
    "-19.54368832\n",
    "-15.98869237\n",
    "2.730001758\n",
    "4.840025488\n",
    "3.592249727\n",
    "17.19531479\n",
    "1.915486522\n",
    "-3.963756064\n",
    "3.26413725\n",
    "1.683983449\n",
    "0.88768208\n",
    "0.645170135\n",
    "-62.70017897\n",
    "]"
   ]
  },
  {
   "cell_type": "code",
   "execution_count": 3,
   "metadata": {
    "collapsed": false
   },
   "outputs": [
    {
     "data": {
      "text/plain": [
       "LighthouseExam (generic function with 1 method)"
      ]
     },
     "execution_count": 3,
     "metadata": {},
     "output_type": "execute_result"
    }
   ],
   "source": [
    "function LighthouseExam(Data,α,β,m)\n",
    "    n= length(Data)\n",
    "   # α= linspace(-6,6,m)\n",
    "   # β = linspace(1,10,m)\n",
    "α_grid= repmat(α',length(β),1)\n",
    "    β_grid = repmat(β,1,length(α))\n",
    "    count=0;\n",
    "temp =zeros(length(α)*length(β),n)\n",
    "for i = 1: length(α), j=1:length(β)\n",
    "    count= count+1\n",
    "    #temp[count,:]=  log((β_grid[i,j]^2 .+ (Data .- α_grid[i,j]).^2))\n",
    "    temp[count,:]=  log(β_grid[i,j]./(β_grid[i,j]^2 .+ (Data .- α_grid[i,j]).^2))\n",
    "end\n",
    "temp\n",
    "    L= sum(temp,2)\n",
    "    ScaledL= L .- maximum(L)\n",
    "    Posterior = exp(ScaledL)\n",
    "    Posterior_grid = reshape(Posterior, length(α), length(β))\n",
    "    \n",
    "    mag_α= sum(Posterior_grid',1)\n",
    "    mag_β= sum(Posterior_grid',2)\n",
    "    \n",
    "    return α_grid,β_grid,Posterior_grid,α,β,mag_α,mag_β\n",
    "end"
   ]
  },
  {
   "cell_type": "code",
   "execution_count": 32,
   "metadata": {
    "collapsed": false
   },
   "outputs": [
    {
     "data": {
      "text/plain": [
       "Ploting (generic function with 1 method)"
      ]
     },
     "execution_count": 32,
     "metadata": {},
     "output_type": "execute_result"
    }
   ],
   "source": [
    "#plot\n",
    "function Ploting(α,β,m)\n",
    "f= figure()\n",
    "#@manipulate for i=1:100, j= -100:100; withfig(f) do\n",
    "#        α_grid,β_grid,α,β,mag_α,mag_β= LighthouseExam(Data,j,i,6)\n",
    "        α_grid,β_grid,Posterior_grid,α,β,mag_α,mag_β= LighthouseExam(Data,α,β,m)\n",
    "\n",
    "    max_mag_α= maximum(mag_α)\n",
    "    max_mag_β= maximum(mag_β)\n",
    "    bestα_i=0\n",
    "    bestβ_i= 0\n",
    "for i=1:length(α)\n",
    "    if (mag_α[i] == max_mag_α)\n",
    "        bestα_i= i\n",
    "    elseif (mag_β[i] == max_mag_β)\n",
    "        bestβ_i= i\n",
    "    end\n",
    "end\n",
    "    \n",
    "    \n",
    "    subplot(221)\n",
    "contour(α_grid, β_grid, Posterior_grid', levels=[0.10,0.30,0.50,0.70,0.90])\n",
    "xlabel(\"\\$ α\\$\") \n",
    "ylabel(\"\\$ β\\$\")\n",
    "    grid(\"on\")\n",
    "title(\"Contour Plot\")\n",
    "    \n",
    "\n",
    "subplot(223)\n",
    "plot(α,mag_α')\n",
    "xlabel(\"\\$ α\\$\") \n",
    "ylabel(\" Marginal \\$ α\\$\")\n",
    "#title (\"\\$ α \\$ value: $α[bestα_i]\")\n",
    "grid(\"on\")    \n",
    "    \n",
    "subplot(224)\n",
    "plot(β,mag_β)\n",
    "xlabel(\"\\$ β\\$\") \n",
    "ylabel(\" Marginal \\$ β\\$\")\n",
    "#title (\" \\$β\\$ value: $β[bestβ_i]\")\n",
    "    grid(\"on\")\n",
    "#    end\n",
    "#end\n",
    "    \n",
    "    println(\"\\n The value of alpha: \",α[bestα_i],\"\\n The value of beta: \",β[bestβ_i])\n",
    "end"
   ]
  },
  {
   "cell_type": "code",
   "execution_count": 33,
   "metadata": {
    "collapsed": false
   },
   "outputs": [
    {
     "name": "stdout",
     "output_type": "stream",
     "text": [
      "\n",
      " The value of alpha: "
     ]
    },
    {
     "data": {
      "image/png": "[encoded data removed]",
      "text/plain": [
       "PyPlot.Figure(PyObject <matplotlib.figure.Figure object at 0x000000002D15F128>)"
      ]
     },
     "metadata": {},
     "output_type": "display_data"
    },
    {
     "name": "stdout",
     "output_type": "stream",
     "text": [
      "2.272727272727273\n",
      " The value of beta: 3.909090909090909\n"
     ]
    }
   ],
   "source": [
    "m=100   \n",
    "α= linspace(1,7,m)\n",
    "β = linspace(1,10,m)\n",
    "Ploting(α,β,m)"
   ]
  },
  {
   "cell_type": "code",
   "execution_count": 34,
   "metadata": {
    "collapsed": false
   },
   "outputs": [
    {
     "name": "stdout",
     "output_type": "stream",
     "text": [
      "\n",
      " The value of alpha: "
     ]
    },
    {
     "data": {
      "image/png": "[encoded data removed]",
      "text/plain": [
       "PyPlot.Figure(PyObject <matplotlib.figure.Figure object at 0x000000002D5FD128>)"
      ]
     },
     "metadata": {},
     "output_type": "display_data"
    },
    {
     "name": "stdout",
     "output_type": "stream",
     "text": [
      "2.272727272727273\n",
      " The value of beta: 3.909090909090909\n"
     ]
    }
   ],
   "source": [
    "m=100   \n",
    "α= linspace(0,5,m)\n",
    "   β = linspace(1,5,m)\n",
    "Ploting(α,β,m)"
   ]
  },
  {
   "cell_type": "code",
   "execution_count": 35,
   "metadata": {
    "collapsed": false
   },
   "outputs": [
    {
     "name": "stdout",
     "output_type": "stream",
     "text": [
      "\n",
      " The value of alpha: "
     ]
    },
    {
     "data": {
      "image/png": "[encoded data removed]",
      "text/plain": [
       "PyPlot.Figure(PyObject <matplotlib.figure.Figure object at 0x000000002D604C18>)"
      ]
     },
     "metadata": {},
     "output_type": "display_data"
    },
    {
     "name": "stdout",
     "output_type": "stream",
     "text": [
      "2.2626262626262625\n",
      " The value of beta: 3.9292929292929295\n"
     ]
    }
   ],
   "source": [
    "m=100   \n",
    "α= linspace(1,3.5,m)\n",
    "   β = linspace(3,5,m)\n",
    "Ploting(α,β,m)"
   ]
  },
  {
   "cell_type": "code",
   "execution_count": 36,
   "metadata": {
    "collapsed": true
   },
   "outputs": [],
   "source": [
    "#For confidence interval\n",
    "using Distributions"
   ]
  },
  {
   "cell_type": "code",
   "execution_count": 79,
   "metadata": {
    "collapsed": false
   },
   "outputs": [
    {
     "data": {
      "text/plain": [
       "2.25"
      ]
     },
     "execution_count": 79,
     "metadata": {},
     "output_type": "execute_result"
    }
   ],
   "source": [
    "m=100   \n",
    "α= linspace(1,3.5,m)\n",
    "   β = linspace(3,5,m)\n",
    "α_grid,β_grid,Posterior_grid,α,β,mag_α,mag_β= LighthouseExam(Data,α,β,m)\n",
    "\n",
    "σ= std(α)\n",
    "μ= mean(α)\n"
   ]
  },
  {
   "cell_type": "code",
   "execution_count": 80,
   "metadata": {
    "collapsed": false
   },
   "outputs": [
    {
     "data": {
      "text/plain": [
       "3.7152268674687887"
      ]
     },
     "execution_count": 80,
     "metadata": {},
     "output_type": "execute_result"
    }
   ],
   "source": [
    "e= μ + 2*σ"
   ]
  },
  {
   "cell_type": "code",
   "execution_count": 81,
   "metadata": {
    "collapsed": false
   },
   "outputs": [
    {
     "data": {
      "text/plain": [
       "0.7847731325312113"
      ]
     },
     "execution_count": 81,
     "metadata": {},
     "output_type": "execute_result"
    }
   ],
   "source": [
    "s= μ - 2*σ"
   ]
  },
  {
   "cell_type": "code",
   "execution_count": 82,
   "metadata": {
    "collapsed": false
   },
   "outputs": [
    {
     "data": {
      "text/plain": [
       "225.00000000000006"
      ]
     },
     "execution_count": 82,
     "metadata": {},
     "output_type": "execute_result"
    }
   ],
   "source": [
    "sumationI= 0\n",
    "for i=1:m\n",
    "    if α[i] >= s && α[i] <= e\n",
    "        sumationI= sumationI + α[i]\n",
    "    end\n",
    "end\n",
    "sumationI"
   ]
  },
  {
   "cell_type": "code",
   "execution_count": 83,
   "metadata": {
    "collapsed": false
   },
   "outputs": [
    {
     "data": {
      "text/plain": [
       "ConfidanceInterval (generic function with 1 method)"
      ]
     },
     "execution_count": 83,
     "metadata": {},
     "output_type": "execute_result"
    }
   ],
   "source": [
    "function ConfidanceInterval(Hyposis)\n",
    "end"
   ]
  },
  {
   "cell_type": "code",
   "execution_count": 84,
   "metadata": {
    "collapsed": false
   },
   "outputs": [
    {
     "data": {
      "text/plain": [
       "635.1514781992724"
      ]
     },
     "execution_count": 84,
     "metadata": {},
     "output_type": "execute_result"
    }
   ],
   "source": [
    "sum(mag_α)"
   ]
  },
  {
   "cell_type": "code",
   "execution_count": 85,
   "metadata": {
    "collapsed": false
   },
   "outputs": [
    {
     "data": {
      "text/plain": [
       "603.3939042893088"
      ]
     },
     "execution_count": 85,
     "metadata": {},
     "output_type": "execute_result"
    }
   ],
   "source": [
    "635.1514781992724 * 0.95"
   ]
  },
  {
   "cell_type": "code",
   "execution_count": 86,
   "metadata": {
    "collapsed": false
   },
   "outputs": [
    {
     "data": {
      "text/plain": [
       "635.1514781992724"
      ]
     },
     "execution_count": 86,
     "metadata": {},
     "output_type": "execute_result"
    }
   ],
   "source": [
    "sumationI= 0\n",
    "for i=1:m\n",
    "    if α[i] >= s && α[i] <= e\n",
    "        sumationI= sumationI + mag_α[i]\n",
    "    end\n",
    "end\n",
    "sumationI"
   ]
  },
  {
   "cell_type": "code",
   "execution_count": 87,
   "metadata": {
    "collapsed": false
   },
   "outputs": [
    {
     "data": {
      "text/plain": [
       "0.7847731325312113"
      ]
     },
     "execution_count": 87,
     "metadata": {},
     "output_type": "execute_result"
    }
   ],
   "source": [
    "s"
   ]
  },
  {
   "cell_type": "code",
   "execution_count": 88,
   "metadata": {
    "collapsed": false
   },
   "outputs": [
    {
     "data": {
      "text/plain": [
       "3.7152268674687887"
      ]
     },
     "execution_count": 88,
     "metadata": {},
     "output_type": "execute_result"
    }
   ],
   "source": [
    "e"
   ]
  },
  {
   "cell_type": "code",
   "execution_count": 90,
   "metadata": {
    "collapsed": false
   },
   "outputs": [
    {
     "ename": "LoadError",
     "evalue": "LoadError: indexed assignment not defined for LinSpace{Float64}\nwhile loading In[90], in expression starting on line 1",
     "output_type": "error",
     "traceback": [
      "LoadError: indexed assignment not defined for LinSpace{Float64}\nwhile loading In[90], in expression starting on line 1",
      "",
      " in partition! at sort.jl:272"
     ]
    }
   ],
   "source": []
  },
  {
   "cell_type": "code",
   "execution_count": null,
   "metadata": {
    "collapsed": true
   },
   "outputs": [],
   "source": []
  }
 ],
 "metadata": {
  "kernelspec": {
   "display_name": "Julia 0.4.0",
   "language": "julia",
   "name": "julia-0.4"
  },
  "language_info": {
   "file_extension": ".jl",
   "mimetype": "application/julia",
   "name": "julia",
   "version": "0.4.0"
  }
 },
 "nbformat": 4,
 "nbformat_minor": 0
}
