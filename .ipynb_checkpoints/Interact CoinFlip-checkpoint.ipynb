{
 "cells": [
  {
   "cell_type": "code",
   "execution_count": null,
   "metadata": {
    "collapsed": true
   },
   "outputs": [],
   "source": [
    "using PyPlot\n",
    "using Intera"
   ]
  },
  {
   "cell_type": "code",
   "execution_count": null,
   "metadata": {
    "collapsed": false
   },
   "outputs": [],
   "source": [
    "coinFlip(w)= (rand()< w)? 1: 0;\n",
    "function CoinAssignment1(w,num)\n",
    "    H= [0:0.001:1...];\n",
    "    \n",
    "    events= zeros(Int,1,num);\n",
    "    for i=1:num\n",
    "        events[i]= coinFlip(w);\n",
    "    end\n",
    "    \n",
    "    N= num; R= sum(events);#parameters for Binomial distribution    \n",
    "    likelihood= H.^R .* (1-H).^(N-R); #likelihood function follows Binomial Distribution\n",
    "    \n",
    "    b=1; a=0; #parameters for Uniform distribution\n",
    "    perior_prob= 1/(b-a); #perior function follows Uniform distribution\n",
    "    \n",
    "    posterior_prob= likelihood .* perior_prob;\n",
    "    \n",
    "    norm= [minimum(posterior_prob) maximum(posterior_prob)];\n",
    "    posterior_probNorm = (posterior_prob - norm[1])./(norm[2] - norm[1]);\n",
    "\n",
    "    return H, posterior_prob;\n",
    "end"
   ]
  },
  {
   "cell_type": "code",
   "execution_count": null,
   "metadata": {
    "collapsed": false
   },
   "outputs": [],
   "source": [
    "f3= figure(figsize=(7,5))\n",
    "@manipulate for n= 1:500; withfig(f3) do\n",
    "    H, posterior= CoinAssignment1(0.25,n)\n",
    "    plot(H,posterior);\n",
    "    ylabel(\"Posterior Prob\")\n",
    "    xlabel(\"H wight\")\n",
    "    title(\"Number of flips: $n\")\n",
    "        \n",
    "end\n",
    "end"
   ]
  },
  {
   "cell_type": "code",
   "execution_count": null,
   "metadata": {
    "collapsed": false
   },
   "outputs": [],
   "source": [
    "?plot"
   ]
  },
  {
   "cell_type": "code",
   "execution_count": null,
   "metadata": {
    "collapsed": false
   },
   "outputs": [],
   "source": [
    "?figure"
   ]
  },
  {
   "cell_type": "code",
   "execution_count": null,
   "metadata": {
    "collapsed": true
   },
   "outputs": [],
   "source": []
  }
 ],
 "metadata": {
  "kernelspec": {
   "display_name": "Julia 0.4.0",
   "language": "julia",
   "name": "julia-0.4"
  },
  "language_info": {
   "file_extension": ".jl",
   "mimetype": "application/julia",
   "name": "julia",
   "version": "0.4.0"
  }
 },
 "nbformat": 4,
 "nbformat_minor": 0
}
