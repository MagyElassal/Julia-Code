{
 "cells": [
  {
   "cell_type": "code",
   "execution_count": 24,
   "metadata": {
    "collapsed": false
   },
   "outputs": [],
   "source": [
    "using PyPlot\n",
    "using Distributions"
   ]
  },
  {
   "cell_type": "code",
   "execution_count": 25,
   "metadata": {
    "collapsed": false
   },
   "outputs": [
    {
     "data": {
      "text/plain": [
       "linspace(-6.0,6.0,15)"
      ]
     },
     "execution_count": 25,
     "metadata": {},
     "output_type": "execute_result"
    }
   ],
   "source": [
    "#--------Data Generation\n",
    "max_counts= 100\n",
    "X=linspace(-6,6,15)"
   ]
  },
  {
   "cell_type": "code",
   "execution_count": 26,
   "metadata": {
    "collapsed": false
   },
   "outputs": [
    {
     "data": {
      "text/plain": [
       "15-element Array{Float64,1}:\n",
       "  66.6667\n",
       "  66.6667\n",
       "  66.6667\n",
       "  66.6667\n",
       "  66.6667\n",
       "  66.7097\n",
       "  72.9859\n",
       " 100.0   \n",
       "  72.9859\n",
       "  66.7097\n",
       "  66.6667\n",
       "  66.6667\n",
       "  66.6667\n",
       "  66.6667\n",
       "  66.6667"
      ]
     },
     "execution_count": 26,
     "metadata": {},
     "output_type": "execute_result"
    }
   ],
   "source": [
    "a=1\n",
    "b=2\n",
    "FWHM= 5\n",
    "\n",
    "n0= max_counts/(a+b)\n",
    "\n",
    "x0= 0\n",
    "w= FWHM/2.35\n",
    "\n",
    "m= length(X)\n",
    "\n",
    "D= zeros(1,m)\n",
    "N= zeros(1,m)\n",
    "\n",
    "D =n0 .* (b .+ a .* exp((-1.*(X .- x0).^2)./ 2*w^2))"
   ]
  },
  {
   "cell_type": "code",
   "execution_count": 27,
   "metadata": {
    "collapsed": false
   },
   "outputs": [
    {
     "data": {
      "text/plain": [
       "1x15 Array{Float64,2}:\n",
       " 77.0  64.0  73.0  61.0  77.0  74.0  …  62.0  67.0  59.0  71.0  68.0  40.0"
      ]
     },
     "execution_count": 27,
     "metadata": {},
     "output_type": "execute_result"
    }
   ],
   "source": [
    "for k = 1:m\n",
    "    N[k]= rand(Poisson(D[k]))\n",
    "end\n",
    "N"
   ]
  },
  {
   "cell_type": "code",
   "execution_count": 28,
   "metadata": {
    "collapsed": false
   },
   "outputs": [
    {
     "data": {
      "image/png": "[encoded data removed]",
      "text/plain": [
       "PyPlot.Figure(PyObject <matplotlib.figure.Figure object at 0x0000000018CA0A20>)"
      ]
     },
     "metadata": {},
     "output_type": "display_data"
    },
    {
     "data": {
      "text/plain": [
       "(0,120)"
      ]
     },
     "execution_count": 28,
     "metadata": {},
     "output_type": "execute_result"
    }
   ],
   "source": [
    "step(X,N')\n",
    "ax=gca()\n",
    "ax[:set_ylim](0,120)"
   ]
  },
  {
   "cell_type": "code",
   "execution_count": 29,
   "metadata": {
    "collapsed": false
   },
   "outputs": [
    {
     "data": {
      "text/plain": [
       "301x301 Array{Float64,2}:\n",
       " 0.0  0.01  0.02  0.03  0.04  0.05  …  2.95  2.96  2.97  2.98  2.99  3.0\n",
       " 0.0  0.01  0.02  0.03  0.04  0.05     2.95  2.96  2.97  2.98  2.99  3.0\n",
       " 0.0  0.01  0.02  0.03  0.04  0.05     2.95  2.96  2.97  2.98  2.99  3.0\n",
       " 0.0  0.01  0.02  0.03  0.04  0.05     2.95  2.96  2.97  2.98  2.99  3.0\n",
       " 0.0  0.01  0.02  0.03  0.04  0.05     2.95  2.96  2.97  2.98  2.99  3.0\n",
       " 0.0  0.01  0.02  0.03  0.04  0.05  …  2.95  2.96  2.97  2.98  2.99  3.0\n",
       " 0.0  0.01  0.02  0.03  0.04  0.05     2.95  2.96  2.97  2.98  2.99  3.0\n",
       " 0.0  0.01  0.02  0.03  0.04  0.05     2.95  2.96  2.97  2.98  2.99  3.0\n",
       " 0.0  0.01  0.02  0.03  0.04  0.05     2.95  2.96  2.97  2.98  2.99  3.0\n",
       " 0.0  0.01  0.02  0.03  0.04  0.05     2.95  2.96  2.97  2.98  2.99  3.0\n",
       " 0.0  0.01  0.02  0.03  0.04  0.05  …  2.95  2.96  2.97  2.98  2.99  3.0\n",
       " 0.0  0.01  0.02  0.03  0.04  0.05     2.95  2.96  2.97  2.98  2.99  3.0\n",
       " 0.0  0.01  0.02  0.03  0.04  0.05     2.95  2.96  2.97  2.98  2.99  3.0\n",
       " ⋮                            ⋮     ⋱  ⋮                             ⋮  \n",
       " 0.0  0.01  0.02  0.03  0.04  0.05     2.95  2.96  2.97  2.98  2.99  3.0\n",
       " 0.0  0.01  0.02  0.03  0.04  0.05  …  2.95  2.96  2.97  2.98  2.99  3.0\n",
       " 0.0  0.01  0.02  0.03  0.04  0.05     2.95  2.96  2.97  2.98  2.99  3.0\n",
       " 0.0  0.01  0.02  0.03  0.04  0.05     2.95  2.96  2.97  2.98  2.99  3.0\n",
       " 0.0  0.01  0.02  0.03  0.04  0.05     2.95  2.96  2.97  2.98  2.99  3.0\n",
       " 0.0  0.01  0.02  0.03  0.04  0.05     2.95  2.96  2.97  2.98  2.99  3.0\n",
       " 0.0  0.01  0.02  0.03  0.04  0.05  …  2.95  2.96  2.97  2.98  2.99  3.0\n",
       " 0.0  0.01  0.02  0.03  0.04  0.05     2.95  2.96  2.97  2.98  2.99  3.0\n",
       " 0.0  0.01  0.02  0.03  0.04  0.05     2.95  2.96  2.97  2.98  2.99  3.0\n",
       " 0.0  0.01  0.02  0.03  0.04  0.05     2.95  2.96  2.97  2.98  2.99  3.0\n",
       " 0.0  0.01  0.02  0.03  0.04  0.05     2.95  2.96  2.97  2.98  2.99  3.0\n",
       " 0.0  0.01  0.02  0.03  0.04  0.05  …  2.95  2.96  2.97  2.98  2.99  3.0"
      ]
     },
     "execution_count": 29,
     "metadata": {},
     "output_type": "execute_result"
    }
   ],
   "source": [
    "A=[0:0.01:3...]\n",
    "B=[0:0.01:3...]\n",
    "A_grid= repmat(A',length(B),1)"
   ]
  },
  {
   "cell_type": "code",
   "execution_count": 30,
   "metadata": {
    "collapsed": false
   },
   "outputs": [
    {
     "data": {
      "text/plain": [
       "301x301 Array{Float64,2}:\n",
       " 0.0   0.0   0.0   0.0   0.0   0.0   …  0.0   0.0   0.0   0.0   0.0   0.0 \n",
       " 0.01  0.01  0.01  0.01  0.01  0.01     0.01  0.01  0.01  0.01  0.01  0.01\n",
       " 0.02  0.02  0.02  0.02  0.02  0.02     0.02  0.02  0.02  0.02  0.02  0.02\n",
       " 0.03  0.03  0.03  0.03  0.03  0.03     0.03  0.03  0.03  0.03  0.03  0.03\n",
       " 0.04  0.04  0.04  0.04  0.04  0.04     0.04  0.04  0.04  0.04  0.04  0.04\n",
       " 0.05  0.05  0.05  0.05  0.05  0.05  …  0.05  0.05  0.05  0.05  0.05  0.05\n",
       " 0.06  0.06  0.06  0.06  0.06  0.06     0.06  0.06  0.06  0.06  0.06  0.06\n",
       " 0.07  0.07  0.07  0.07  0.07  0.07     0.07  0.07  0.07  0.07  0.07  0.07\n",
       " 0.08  0.08  0.08  0.08  0.08  0.08     0.08  0.08  0.08  0.08  0.08  0.08\n",
       " 0.09  0.09  0.09  0.09  0.09  0.09     0.09  0.09  0.09  0.09  0.09  0.09\n",
       " 0.1   0.1   0.1   0.1   0.1   0.1   …  0.1   0.1   0.1   0.1   0.1   0.1 \n",
       " 0.11  0.11  0.11  0.11  0.11  0.11     0.11  0.11  0.11  0.11  0.11  0.11\n",
       " 0.12  0.12  0.12  0.12  0.12  0.12     0.12  0.12  0.12  0.12  0.12  0.12\n",
       " ⋮                             ⋮     ⋱  ⋮                             ⋮   \n",
       " 2.89  2.89  2.89  2.89  2.89  2.89     2.89  2.89  2.89  2.89  2.89  2.89\n",
       " 2.9   2.9   2.9   2.9   2.9   2.9   …  2.9   2.9   2.9   2.9   2.9   2.9 \n",
       " 2.91  2.91  2.91  2.91  2.91  2.91     2.91  2.91  2.91  2.91  2.91  2.91\n",
       " 2.92  2.92  2.92  2.92  2.92  2.92     2.92  2.92  2.92  2.92  2.92  2.92\n",
       " 2.93  2.93  2.93  2.93  2.93  2.93     2.93  2.93  2.93  2.93  2.93  2.93\n",
       " 2.94  2.94  2.94  2.94  2.94  2.94     2.94  2.94  2.94  2.94  2.94  2.94\n",
       " 2.95  2.95  2.95  2.95  2.95  2.95  …  2.95  2.95  2.95  2.95  2.95  2.95\n",
       " 2.96  2.96  2.96  2.96  2.96  2.96     2.96  2.96  2.96  2.96  2.96  2.96\n",
       " 2.97  2.97  2.97  2.97  2.97  2.97     2.97  2.97  2.97  2.97  2.97  2.97\n",
       " 2.98  2.98  2.98  2.98  2.98  2.98     2.98  2.98  2.98  2.98  2.98  2.98\n",
       " 2.99  2.99  2.99  2.99  2.99  2.99     2.99  2.99  2.99  2.99  2.99  2.99\n",
       " 3.0   3.0   3.0   3.0   3.0   3.0   …  3.0   3.0   3.0   3.0   3.0   3.0 "
      ]
     },
     "execution_count": 30,
     "metadata": {},
     "output_type": "execute_result"
    }
   ],
   "source": [
    "B_grid = repmat(B,1,length(A))"
   ]
  },
  {
   "cell_type": "code",
   "execution_count": 31,
   "metadata": {
    "collapsed": false
   },
   "outputs": [
    {
     "data": {
      "text/plain": [
       "90601x15 Array{Float64,2}:\n",
       "   0.0            0.0            0.0          …    0.0            0.0        \n",
       "   1.3629e-36     3.33601e-27    2.93471e-19       3.33601e-27    1.3629e-36 \n",
       "   2.7258e-36     6.67202e-27    5.86942e-19       6.67202e-27    2.7258e-36 \n",
       "   4.08871e-36    1.0008e-26     8.80413e-19       1.0008e-26     4.08871e-36\n",
       "   5.45161e-36    1.3344e-26     1.17388e-18       1.3344e-26     5.45161e-36\n",
       "   6.81451e-36    1.66801e-26    1.46736e-18  …    1.66801e-26    6.81451e-36\n",
       "   8.17741e-36    2.00161e-26    1.76083e-18       2.00161e-26    8.17741e-36\n",
       "   9.54031e-36    2.33521e-26    2.0543e-18        2.33521e-26    9.54031e-36\n",
       "   1.09032e-35    2.66881e-26    2.34777e-18       2.66881e-26    1.09032e-35\n",
       "   1.22661e-35    3.00241e-26    2.64124e-18       3.00241e-26    1.22661e-35\n",
       "   1.3629e-35     3.33601e-26    2.93471e-18  …    3.33601e-26    1.3629e-35 \n",
       "   1.49919e-35    3.66961e-26    3.22818e-18       3.66961e-26    1.49919e-35\n",
       "   1.63548e-35    4.00321e-26    3.52165e-18       4.00321e-26    1.63548e-35\n",
       "   ⋮                                          ⋱                              \n",
       " 100.0          100.0          100.0             100.0          100.0        \n",
       " 100.0          100.0          100.0          …  100.0          100.0        \n",
       " 100.0          100.0          100.0             100.0          100.0        \n",
       " 100.0          100.0          100.0             100.0          100.0        \n",
       " 100.0          100.0          100.0             100.0          100.0        \n",
       " 100.0          100.0          100.0             100.0          100.0        \n",
       " 100.0          100.0          100.0          …  100.0          100.0        \n",
       " 100.0          100.0          100.0             100.0          100.0        \n",
       " 100.0          100.0          100.0             100.0          100.0        \n",
       " 100.0          100.0          100.0             100.0          100.0        \n",
       " 100.0          100.0          100.0             100.0          100.0        \n",
       " 100.0          100.0          100.0          …  100.0          100.0        "
      ]
     },
     "execution_count": 31,
     "metadata": {},
     "output_type": "execute_result"
    }
   ],
   "source": [
    "# Posterior calculations: 1- Calculate D\n",
    "count=0;\n",
    "D =zeros(length(A)*length(B),m)\n",
    "D_gKnowB =zeros(length(A)*length(B),m)\n",
    "for i = 1: length(A), j=1:length(B)\n",
    "    count= count+1\n",
    "    D[count,:] =n0*(A_grid[i,j] * exp(-(X .- x0).^2 / 2*w^2) .+ B_grid[i,j])\n",
    "    D_gKnowB[count,:] =n0*(A_grid[i,j] * exp(-(X .- x0).^2 / 2*w^2) .+ 2)\n",
    "end\n",
    "D"
   ]
  },
  {
   "cell_type": "code",
   "execution_count": 32,
   "metadata": {
    "collapsed": false
   },
   "outputs": [
    {
     "data": {
      "text/plain": [
       "90601x1 Array{Float64,2}:\n",
       " 3292.1 \n",
       " 3292.22\n",
       " 3292.35\n",
       " 3292.47\n",
       " 3292.58\n",
       " 3292.7 \n",
       " 3292.81\n",
       " 3292.92\n",
       " 3293.03\n",
       " 3293.14\n",
       " 3293.24\n",
       " 3293.35\n",
       " 3293.45\n",
       "    ⋮   \n",
       " 3274.01\n",
       " 3273.84\n",
       " 3273.67\n",
       " 3273.5 \n",
       " 3273.33\n",
       " 3273.15\n",
       " 3272.98\n",
       " 3272.81\n",
       " 3272.63\n",
       " 3272.46\n",
       " 3272.28\n",
       " 3272.11"
      ]
     },
     "execution_count": 32,
     "metadata": {},
     "output_type": "execute_result"
    }
   ],
   "source": [
    "#2- Calculate L\n",
    "L= zeros(1,length(A)*length(B))\n",
    "L_gKnowB= zeros(1,length(A)*length(B))\n",
    "\n",
    "L= sum((N .*log(D) .- D),2)\n",
    "L_gKnowB= sum((N .*log(D_gKnowB) .- D_gKnowB),2)"
   ]
  },
  {
   "cell_type": "code",
   "execution_count": 33,
   "metadata": {
    "collapsed": false
   },
   "outputs": [
    {
     "data": {
      "text/plain": [
       "90601x1 Array{Float64,2}:\n",
       " 0.0183883  \n",
       " 0.0208348  \n",
       " 0.0235508  \n",
       " 0.0265583  \n",
       " 0.0298801  \n",
       " 0.0335398  \n",
       " 0.0375617  \n",
       " 0.0419706  \n",
       " 0.0467918  \n",
       " 0.0520509  \n",
       " 0.0577735  \n",
       " 0.0639853  \n",
       " 0.0707117  \n",
       " ⋮          \n",
       " 2.57485e-10\n",
       " 2.1698e-10 \n",
       " 1.82763e-10\n",
       " 1.53873e-10\n",
       " 1.29491e-10\n",
       " 1.08923e-10\n",
       " 9.1581e-11 \n",
       " 7.69657e-11\n",
       " 6.46541e-11\n",
       " 5.42877e-11\n",
       " 4.55633e-11\n",
       " 3.82241e-11"
      ]
     },
     "execution_count": 33,
     "metadata": {},
     "output_type": "execute_result"
    }
   ],
   "source": [
    "#3- Calculate Posterior\n",
    "getMaxL= maximum(L);\n",
    "modifiedL= L .- getMaxL;\n",
    "posterior = exp(modifiedL)\n",
    "\n",
    "getMaxL_gKnowB= maximum(L_gKnowB);\n",
    "modifiedL_gKnowB= L_gKnowB .- getMaxL_gKnowB;\n",
    "posterior_gKnowB = exp(modifiedL_gKnowB)"
   ]
  },
  {
   "cell_type": "code",
   "execution_count": 34,
   "metadata": {
    "collapsed": false
   },
   "outputs": [
    {
     "data": {
      "text/plain": [
       "301x301 Array{Float64,2}:\n",
       " 0.0183883    0.0183883    0.0183883    …  0.0183883    0.0183883  \n",
       " 0.0208348    0.0208348    0.0208348       0.0208348    0.0208348  \n",
       " 0.0235508    0.0235508    0.0235508       0.0235508    0.0235508  \n",
       " 0.0265583    0.0265583    0.0265583       0.0265583    0.0265583  \n",
       " 0.0298801    0.0298801    0.0298801       0.0298801    0.0298801  \n",
       " 0.0335398    0.0335398    0.0335398    …  0.0335398    0.0335398  \n",
       " 0.0375617    0.0375617    0.0375617       0.0375617    0.0375617  \n",
       " 0.0419706    0.0419706    0.0419706       0.0419706    0.0419706  \n",
       " 0.0467918    0.0467918    0.0467918       0.0467918    0.0467918  \n",
       " 0.0520509    0.0520509    0.0520509       0.0520509    0.0520509  \n",
       " 0.0577735    0.0577735    0.0577735    …  0.0577735    0.0577735  \n",
       " 0.0639853    0.0639853    0.0639853       0.0639853    0.0639853  \n",
       " 0.0707117    0.0707117    0.0707117       0.0707117    0.0707117  \n",
       " ⋮                                      ⋱               ⋮          \n",
       " 2.57485e-10  2.57485e-10  2.57485e-10     2.57485e-10  2.57485e-10\n",
       " 2.1698e-10   2.1698e-10   2.1698e-10   …  2.1698e-10   2.1698e-10 \n",
       " 1.82763e-10  1.82763e-10  1.82763e-10     1.82763e-10  1.82763e-10\n",
       " 1.53873e-10  1.53873e-10  1.53873e-10     1.53873e-10  1.53873e-10\n",
       " 1.29491e-10  1.29491e-10  1.29491e-10     1.29491e-10  1.29491e-10\n",
       " 1.08923e-10  1.08923e-10  1.08923e-10     1.08923e-10  1.08923e-10\n",
       " 9.1581e-11   9.1581e-11   9.1581e-11   …  9.1581e-11   9.1581e-11 \n",
       " 7.69657e-11  7.69657e-11  7.69657e-11     7.69657e-11  7.69657e-11\n",
       " 6.46541e-11  6.46541e-11  6.46541e-11     6.46541e-11  6.46541e-11\n",
       " 5.42877e-11  5.42877e-11  5.42877e-11     5.42877e-11  5.42877e-11\n",
       " 4.55633e-11  4.55633e-11  4.55633e-11     4.55633e-11  4.55633e-11\n",
       " 3.82241e-11  3.82241e-11  3.82241e-11  …  3.82241e-11  3.82241e-11"
      ]
     },
     "execution_count": 34,
     "metadata": {},
     "output_type": "execute_result"
    }
   ],
   "source": [
    "# Plot configurations\n",
    "posterior_grid= zeros(length(A),length(B))\n",
    "posterior_grid = reshape(posterior, length(A), length(B))\n",
    "\n",
    "posterior_grid_gKnowB= zeros(length(A),length(B))\n",
    "posterior_grid_gKnowB = reshape(posterior_gKnowB, length(A), length(B))"
   ]
  },
  {
   "cell_type": "code",
   "execution_count": 86,
   "metadata": {
    "collapsed": false
   },
   "outputs": [
    {
     "ename": "LoadError",
     "evalue": "LoadError: KeyError: set_theta_zero_location not found\nwhile loading In[86], in expression starting on line 5",
     "output_type": "error",
     "traceback": [
      "LoadError: KeyError: set_theta_zero_location not found\nwhile loading In[86], in expression starting on line 5",
      "",
      " in getindex at C:\\Users\\Magy\\.julia\\v0.4\\PyCall\\src\\PyCall.jl:240"
     ]
    }
   ],
   "source": [
    "#Plot contour and Histogram\n",
    "#fig= figure(figsize=(5,4))\n",
    "subplot(221)\n",
    "plotHist= step(X,N')\n",
    "ax=gca()\n",
    "ax[:set_ylim](0,120)\n",
    "ylabel(\"Number of counts N\");\n",
    "xlabel(\"Measurement variable X\");\n",
    "title(\"Histogram Plot\")\n",
    "\n",
    "\n",
    "#figure(figsize=(5,4))\n",
    "subplot(222)\n",
    "contour(A_grid, B_grid, posterior_grid', levels=[0.10,0.30,0.50,0.70,0.90])\n",
    "xlabel(\"Amplitude (A)\") \n",
    "ylabel(\"Background (B)\")\n",
    "title(\"Contour Plot\")\n"
   ]
  },
  {
   "cell_type": "code",
   "execution_count": 73,
   "metadata": {
    "collapsed": false
   },
   "outputs": [
    {
     "data": {
      "text/plain": [
       "1x301 Array{Float64,2}:\n",
       " 0.345969  0.391999  0.4431  0.499685  …  1.0214e-9  8.57257e-10  7.19173e-10"
      ]
     },
     "execution_count": 73,
     "metadata": {},
     "output_type": "execute_result"
    }
   ],
   "source": [
    "integration_A= sum(posterior_grid',1)\n",
    "integration_A_gKnowB= sum(posterior_grid_gKnowB',1)./maximum(integration_A)"
   ]
  },
  {
   "cell_type": "code",
   "execution_count": 74,
   "metadata": {
    "collapsed": false
   },
   "outputs": [
    {
     "data": {
      "text/plain": [
       "301x1 Array{Float64,2}:\n",
       " 0.0        \n",
       " 0.0        \n",
       " 0.0        \n",
       " 0.0        \n",
       " 0.0        \n",
       " 0.0        \n",
       " 0.0        \n",
       " 0.0        \n",
       " 0.0        \n",
       " 0.0        \n",
       " 0.0        \n",
       " 0.0        \n",
       " 0.0        \n",
       " ⋮          \n",
       " 3.49834e-31\n",
       " 7.91683e-32\n",
       " 1.77051e-32\n",
       " 3.91321e-33\n",
       " 8.54851e-34\n",
       " 1.84587e-34\n",
       " 3.94e-35   \n",
       " 8.31396e-36\n",
       " 1.73447e-36\n",
       " 3.57772e-37\n",
       " 7.29717e-38\n",
       " 1.47178e-38"
      ]
     },
     "execution_count": 74,
     "metadata": {},
     "output_type": "execute_result"
    }
   ],
   "source": [
    "integration_B= sum(posterior_grid',2)"
   ]
  },
  {
   "cell_type": "code",
   "execution_count": 82,
   "metadata": {
    "collapsed": false
   },
   "outputs": [
    {
     "data": {
      "image/png": "[encoded data removed]",
      "text/plain": [
       "PyPlot.Figure(PyObject <matplotlib.figure.Figure object at 0x00000000294E1C18>)"
      ]
     },
     "metadata": {},
     "output_type": "display_data"
    },
    {
     "data": {
      "text/plain": [
       "PyObject <matplotlib.text.Text object at 0x000000002BC360F0>"
      ]
     },
     "execution_count": 82,
     "metadata": {},
     "output_type": "execute_result"
    }
   ],
   "source": [
    "#figure(figsize=(5,4))\n",
    "pl= PyPlot\n",
    "pl.subplot(221)\n",
    "pl.plot(A,integration_A')\n",
    "pl.plot(A,integration_A_gKnowB',\"--\")\n",
    "ylabel(\"\\$prob(A|{N_k},I)\\$\");\n",
    "xlabel(\"Ampplitude A\");\n",
    "title(\"Plot 1\")\n",
    "\n",
    "#figure(figsize=(5,4))\n",
    "pl.subplot(222)\n",
    "pl.plot(B,integration_B)\n",
    "ylabel(\"\\$prob(B|{N_k},I)\\$\");\n",
    "xlabel(\"Background B\");\n",
    "title(\"Plot 2\")"
   ]
  },
  {
   "cell_type": "code",
   "execution_count": 43,
   "metadata": {
    "collapsed": false
   },
   "outputs": [
    {
     "name": "stdout",
     "output_type": "stream",
     "text": [
      "search: "
     ]
    },
    {
     "data": {
      "text/plain": [
       "Plot lines and/or markers to the\n",
       ":class:`~matplotlib.axes.Axes`.  *args* is a variable length\n",
       "argument, allowing for multiple *x*, *y* pairs with an\n",
       "optional format string.  For example, each of the following is\n",
       "legal::\n",
       "\n",
       "    plot(x, y)        # plot x and y using default line style and color\n",
       "    plot(x, y, 'bo')  # plot x and y using blue circle markers\n",
       "    plot(y)           # plot y using x as index array 0..N-1\n",
       "    plot(y, 'r+')     # ditto, but with red plusses\n",
       "\n",
       "If *x* and/or *y* is 2-dimensional, then the corresponding columns\n",
       "will be plotted.\n",
       "\n",
       "An arbitrary number of *x*, *y*, *fmt* groups can be\n",
       "specified, as in::\n",
       "\n",
       "    a.plot(x1, y1, 'g^', x2, y2, 'g-')\n",
       "\n",
       "Return value is a list of lines that were added.\n",
       "\n",
       "By default, each line is assigned a different color specified by a\n",
       "'color cycle'.  To change this behavior, you can edit the\n",
       "axes.color_cycle rcParam.\n",
       "\n",
       "The following format string characters are accepted to control\n",
       "the line style or marker:\n",
       "\n",
       "================    ===============================\n",
       "character           description\n",
       "================    ===============================\n",
       "``'-'``             solid line style\n",
       "``'--'``            dashed line style\n",
       "``'-.'``            dash-dot line style\n",
       "``':'``             dotted line style\n",
       "``'.'``             point marker\n",
       "``','``             pixel marker\n",
       "``'o'``             circle marker\n",
       "``'v'``             triangle_down marker\n",
       "``'^'``             triangle_up marker\n",
       "``'<'``             triangle_left marker\n",
       "``'>'``             triangle_right marker\n",
       "``'1'``             tri_down marker\n",
       "``'2'``             tri_up marker\n",
       "``'3'``             tri_left marker\n",
       "``'4'``             tri_right marker\n",
       "``'s'``             square marker\n",
       "``'p'``             pentagon marker\n",
       "``'*'``             star marker\n",
       "``'h'``             hexagon1 marker\n",
       "``'H'``             hexagon2 marker\n",
       "``'+'``             plus marker\n",
       "``'x'``             x marker\n",
       "``'D'``             diamond marker\n",
       "``'d'``             thin_diamond marker\n",
       "``'|'``             vline marker\n",
       "``'_'``             hline marker\n",
       "================    ===============================\n",
       "\n",
       "\n",
       "The following color abbreviations are supported:\n",
       "\n",
       "==========  ========\n",
       "character   color\n",
       "==========  ========\n",
       "'b'         blue\n",
       "'g'         green\n",
       "'r'         red\n",
       "'c'         cyan\n",
       "'m'         magenta\n",
       "'y'         yellow\n",
       "'k'         black\n",
       "'w'         white\n",
       "==========  ========\n",
       "\n",
       "In addition, you can specify colors in many weird and\n",
       "wonderful ways, including full names (``'green'``), hex\n",
       "strings (``'#008000'``), RGB or RGBA tuples (``(0,1,0,1)``) or\n",
       "grayscale intensities as a string (``'0.8'``).  Of these, the\n",
       "string specifications can be used in place of a ``fmt`` group,\n",
       "but the tuple forms can be used only as ``kwargs``.\n",
       "\n",
       "Line styles and colors are combined in a single format string, as in\n",
       "``'bo'`` for blue circles.\n",
       "\n",
       "The *kwargs* can be used to set line properties (any property that has\n",
       "a ``set_*`` method).  You can use this to set a line label (for auto\n",
       "legends), linewidth, anitialising, marker face color, etc.  Here is an\n",
       "example::\n",
       "\n",
       "    plot([1,2,3], [1,2,3], 'go-', label='line 1', linewidth=2)\n",
       "    plot([1,2,3], [1,4,9], 'rs',  label='line 2')\n",
       "    axis([0, 4, 0, 10])\n",
       "    legend()\n",
       "\n",
       "If you make multiple lines with one plot command, the kwargs\n",
       "apply to all those lines, e.g.::\n",
       "\n",
       "    plot(x1, y1, x2, y2, antialised=False)\n",
       "\n",
       "Neither line will be antialiased.\n",
       "\n",
       "You do not need to use format strings, which are just\n",
       "abbreviations.  All of the line properties can be controlled\n",
       "by keyword arguments.  For example, you can set the color,\n",
       "marker, linestyle, and markercolor with::\n",
       "\n",
       "    plot(x, y, color='green', linestyle='dashed', marker='o',\n",
       "         markerfacecolor='blue', markersize=12).\n",
       "\n",
       "See :class:`~matplotlib.lines.Line2D` for details.\n",
       "\n",
       "The kwargs are :class:`~matplotlib.lines.Line2D` properties:\n",
       "\n",
       "  agg_filter: unknown\n",
       "  alpha: float (0.0 transparent through 1.0 opaque)         \n",
       "  animated: [True | False]         \n",
       "  antialiased or aa: [True | False]         \n",
       "  axes: an :class:`~matplotlib.axes.Axes` instance         \n",
       "  clip_box: a :class:`matplotlib.transforms.Bbox` instance         \n",
       "  clip_on: [True | False]         \n",
       "  clip_path: [ (:class:`~matplotlib.path.Path`,         :class:`~matplotlib.transforms.Transform`) |         :class:`~matplotlib.patches.Patch` | None ]         \n",
       "  color or c: any matplotlib color         \n",
       "  contains: a callable function         \n",
       "  dash_capstyle: ['butt' | 'round' | 'projecting']         \n",
       "  dash_joinstyle: ['miter' | 'round' | 'bevel']         \n",
       "  dashes: sequence of on/off ink in points         \n",
       "  drawstyle: ['default' | 'steps' | 'steps-pre' | 'steps-mid' |                   'steps-post']         \n",
       "  figure: a :class:`matplotlib.figure.Figure` instance         \n",
       "  fillstyle: ['full' | 'left' | 'right' | 'bottom' | 'top' | 'none']         \n",
       "  gid: an id string         \n",
       "  label: string or anything printable with '%s' conversion.         \n",
       "  linestyle or ls: [``'-'`` | ``'--'`` | ``'-.'`` | ``':'`` | ``'None'`` |                   ``' '`` | ``''``]\n",
       "  linewidth or lw: float value in points         \n",
       "  lod: [True | False]         \n",
       "  marker: :mod:`A valid marker style <matplotlib.markers>`\n",
       "  markeredgecolor or mec: any matplotlib color         \n",
       "  markeredgewidth or mew: float value in points         \n",
       "  markerfacecolor or mfc: any matplotlib color         \n",
       "  markerfacecoloralt or mfcalt: any matplotlib color         \n",
       "  markersize or ms: float         \n",
       "  markevery: [None | int | length-2 tuple of int | slice |         list/array of int | float | length-2 tuple of float]\n",
       "  path_effects: unknown\n",
       "  picker: float distance in points or callable pick function         ``fn(artist, event)``         \n",
       "  pickradius: float distance in points         \n",
       "  rasterized: [True | False | None]         \n",
       "  sketch_params: unknown\n",
       "  snap: unknown\n",
       "  solid_capstyle: ['butt' | 'round' |  'projecting']         \n",
       "  solid_joinstyle: ['miter' | 'round' | 'bevel']         \n",
       "  transform: a :class:`matplotlib.transforms.Transform` instance         \n",
       "  url: a url string         \n",
       "  visible: [True | False]         \n",
       "  xdata: 1D array         \n",
       "  ydata: 1D array         \n",
       "  zorder: any number         \n",
       "\n",
       "kwargs *scalex* and *scaley*, if defined, are passed on to\n",
       ":meth:`~matplotlib.axes.Axes.autoscale_view` to determine\n",
       "whether the *x* and *y* axes are autoscaled; the default is\n",
       "*True*.\n",
       "\n",
       "\n",
       "\n",
       "Additional kwargs: hold = [True|False] overrides default hold state"
      ]
     },
     "execution_count": 43,
     "metadata": {},
     "output_type": "execute_result"
    },
    {
     "name": "stdout",
     "output_type": "stream",
     "text": [
      "plot plot3D plotfile plotHist plot_date plot_trisurf plot_surface\n",
      "\n"
     ]
    }
   ],
   "source": [
    "?plot"
   ]
  },
  {
   "cell_type": "code",
   "execution_count": 80,
   "metadata": {
    "collapsed": false
   },
   "outputs": [
    {
     "name": "stdout",
     "output_type": "stream",
     "text": [
      "search:"
     ]
    },
    {
     "data": {
      "text/plain": [
       "\n",
       "    Return a subplot axes positioned by the given grid definition.\n",
       "\n",
       "    Typical call signature::\n",
       "\n",
       "      subplot(nrows, ncols, plot_number)\n",
       "\n",
       "    Where *nrows* and *ncols* are used to notionally split the figure\n",
       "    into ``nrows * ncols`` sub-axes, and *plot_number* is used to identify\n",
       "    the particular subplot that this function is to create within the notional\n",
       "    grid. *plot_number* starts at 1, increments across rows first and has a\n",
       "    maximum of ``nrows * ncols``.\n",
       "\n",
       "    In the case when *nrows*, *ncols* and *plot_number* are all less than 10,\n",
       "    a convenience exists, such that the a 3 digit number can be given instead,\n",
       "    where the hundreds represent *nrows*, the tens represent *ncols* and the\n",
       "    units represent *plot_number*. For instance::\n",
       "\n",
       "      subplot(211)\n",
       "\n",
       "    produces a subaxes in a figure which represents the top plot (i.e. the\n",
       "    first) in a 2 row by 1 column notional grid (no grid actually exists,\n",
       "    but conceptually this is how the returned subplot has been positioned).\n",
       "\n",
       "    .. note::\n",
       "\n",
       "       Creating a new subplot with a position which is entirely inside a\n",
       "       pre-existing axes will trigger the larger axes to be deleted::\n",
       "\n",
       "          import matplotlib.pyplot as plt\n",
       "          # plot a line, implicitly creating a subplot(111)\n",
       "          plt.plot([1,2,3])\n",
       "          # now create a subplot which represents the top plot of a grid\n",
       "          # with 2 rows and 1 column. Since this subplot will overlap the\n",
       "          # first, the plot (and its axes) previously created, will be removed\n",
       "          plt.subplot(211)\n",
       "          plt.plot(range(12))\n",
       "          plt.subplot(212, axisbg='y') # creates 2nd subplot with yellow background\n",
       "\n",
       "       If you do not want this behavior, use the\n",
       "       :meth:`~matplotlib.figure.Figure.add_subplot` method or the\n",
       "       :func:`~matplotlib.pyplot.axes` function instead.\n",
       "\n",
       "    Keyword arguments:\n",
       "\n",
       "      *axisbg*:\n",
       "        The background color of the subplot, which can be any valid\n",
       "        color specifier.  See :mod:`matplotlib.colors` for more\n",
       "        information.\n",
       "\n",
       "      *polar*:\n",
       "        A boolean flag indicating whether the subplot plot should be\n",
       "        a polar projection.  Defaults to *False*.\n",
       "\n",
       "      *projection*:\n",
       "        A string giving the name of a custom projection to be used\n",
       "        for the subplot. This projection must have been previously\n",
       "        registered. See :mod:`matplotlib.projections`.\n",
       "\n",
       "    .. seealso::\n",
       "\n",
       "        :func:`~matplotlib.pyplot.axes`\n",
       "            For additional information on :func:`axes` and\n",
       "            :func:`subplot` keyword arguments.\n",
       "\n",
       "        :file:`examples/pie_and_polar_charts/polar_scatter_demo.py`\n",
       "            For an example\n",
       "\n",
       "    **Example:**\n",
       "\n",
       "    .. plot:: mpl_examples/subplots_axes_and_figures/subplot_demo.py\n",
       "\n",
       "    "
      ]
     },
     "execution_count": 80,
     "metadata": {},
     "output_type": "execute_result"
    },
    {
     "name": "stdout",
     "output_type": "stream",
     "text": [
      " subplot subplots subplot_tool subplot2grid subplots_adjust\n",
      "\n"
     ]
    }
   ],
   "source": [
    "?subplot"
   ]
  },
  {
   "cell_type": "code",
   "execution_count": null,
   "metadata": {
    "collapsed": true
   },
   "outputs": [],
   "source": []
  }
 ],
 "metadata": {
  "kernelspec": {
   "display_name": "Julia 0.4.0",
   "language": "julia",
   "name": "julia-0.4"
  },
  "language_info": {
   "file_extension": ".jl",
   "mimetype": "application/julia",
   "name": "julia",
   "version": "0.4.0"
  }
 },
 "nbformat": 4,
 "nbformat_minor": 0
}
