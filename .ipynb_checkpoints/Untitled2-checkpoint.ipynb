{
 "cells": [
  {
   "cell_type": "code",
   "execution_count": 4,
   "metadata": {
    "collapsed": false
   },
   "outputs": [
    {
     "name": "stderr",
     "output_type": "stream",
     "text": [
      "INFO: Precompiling module Distributions...\n"
     ]
    }
   ],
   "source": [
    "using Distributions"
   ]
  },
  {
   "cell_type": "code",
   "execution_count": 8,
   "metadata": {
    "collapsed": false
   },
   "outputs": [
    {
     "data": {
      "text/plain": [
       "1x5 Array{Float64,2}:\n",
       " 1.0  3.0  0.0  0.0  1.0"
      ]
     },
     "execution_count": 8,
     "metadata": {},
     "output_type": "execute_result"
    }
   ],
   "source": [
    "predata= zeros(1,5)\n",
    "A = rand!(Poisson(),predata) #for generating a poisson random numbers.\n",
    "B = rand!(Poisson(),predata) #for generating a poisson random numbers."
   ]
  },
  {
   "cell_type": "code",
   "execution_count": 5,
   "metadata": {
    "collapsed": false
   },
   "outputs": [
    {
     "data": {
      "text/plain": [
       "1x13 Array{Float64,2}:\n",
       " 53.5477  52.2519  37.6465  51.2324  …  88.8878  7.68511  38.474  24.8806"
      ]
     },
     "execution_count": 5,
     "metadata": {},
     "output_type": "execute_result"
    }
   ],
   "source": [
    "#first panel\n",
    "N= 100;\n",
    "n0= 15;\n",
    "w= 5;\n",
    "x= [-6:1:6];\n",
    "M= length(x)\n",
    "N= rand(1,M)*100"
   ]
  },
  {
   "cell_type": "code",
   "execution_count": 3,
   "metadata": {
    "collapsed": false
   },
   "outputs": [
    {
     "name": "stdout",
     "output_type": "stream",
     "text": [
      "search: h"
     ]
    },
    {
     "data": {
      "text/latex": [
       "\\begin{verbatim}\n",
       "hist(v, e) -> e, counts\n",
       "\\end{verbatim}\n",
       "Compute the histogram of \\texttt{v} using a vector/range \\texttt{e} as the edges for the bins. The result will be a vector of length \\texttt{length(e) - 1}, such that the element at location \\texttt{i} satisfies \\texttt{sum(e[i] .< v .<= e[i+1])}. Note: Julia does not ignore \\texttt{NaN} values in the computation.\n",
       "\\begin{verbatim}\n",
       "hist(v[, n]) -> e, counts\n",
       "\\end{verbatim}\n",
       "Compute the histogram of \\texttt{v}, optionally using approximately \\texttt{n} bins. The return values are a range \\texttt{e}, which correspond to the edges of the bins, and \\texttt{counts} containing the number of elements of \\texttt{v} in each bin. Note: Julia does not ignore \\texttt{NaN} values in the computation.\n"
      ],
      "text/markdown": [
       "```\n",
       "hist(v, e) -> e, counts\n",
       "```\n",
       "\n",
       "Compute the histogram of `v` using a vector/range `e` as the edges for the bins. The result will be a vector of length `length(e) - 1`, such that the element at location `i` satisfies `sum(e[i] .< v .<= e[i+1])`. Note: Julia does not ignore `NaN` values in the computation.\n",
       "\n",
       "```\n",
       "hist(v[, n]) -> e, counts\n",
       "```\n",
       "\n",
       "Compute the histogram of `v`, optionally using approximately `n` bins. The return values are a range `e`, which correspond to the edges of the bins, and `counts` containing the number of elements of `v` in each bin. Note: Julia does not ignore `NaN` values in the computation.\n"
      ],
      "text/plain": [
       "```\n",
       "hist(v, e) -> e, counts\n",
       "```\n",
       "\n",
       "Compute the histogram of `v` using a vector/range `e` as the edges for the bins. The result will be a vector of length `length(e) - 1`, such that the element at location `i` satisfies `sum(e[i] .< v .<= e[i+1])`. Note: Julia does not ignore `NaN` values in the computation.\n",
       "\n",
       "```\n",
       "hist(v[, n]) -> e, counts\n",
       "```\n",
       "\n",
       "Compute the histogram of `v`, optionally using approximately `n` bins. The return values are a range `e`, which correspond to the edges of the bins, and `counts` containing the number of elements of `v` in each bin. Note: Julia does not ignore `NaN` values in the computation.\n"
      ]
     },
     "execution_count": 3,
     "metadata": {},
     "output_type": "execute_result"
    },
    {
     "name": "stdout",
     "output_type": "stream",
     "text": [
      "ist hist! hist2d hist2d! histrange clear_history method_exists\n",
      "\n"
     ]
    }
   ],
   "source": [
    "?hist"
   ]
  },
  {
   "cell_type": "code",
   "execution_count": 6,
   "metadata": {
    "collapsed": false
   },
   "outputs": [
    {
     "name": "stdout",
     "output_type": "stream",
     "text": [
      "search:"
     ]
    },
    {
     "data": {
      "text/latex": [
       "\\begin{verbatim}\n",
       "histrange(v, n)\n",
       "\\end{verbatim}\n",
       "Compute \\emph{nice} bin ranges for the edges of a histogram of \\texttt{v}, using approximately \\texttt{n} bins. The resulting step sizes will be 1, 2 or 5 multiplied by a power of 10. Note: Julia does not ignore \\texttt{NaN} values in the computation.\n"
      ],
      "text/markdown": [
       "```\n",
       "histrange(v, n)\n",
       "```\n",
       "\n",
       "Compute *nice* bin ranges for the edges of a histogram of `v`, using approximately `n` bins. The resulting step sizes will be 1, 2 or 5 multiplied by a power of 10. Note: Julia does not ignore `NaN` values in the computation.\n"
      ],
      "text/plain": [
       "```\n",
       "histrange(v, n)\n",
       "```\n",
       "\n",
       "Compute *nice* bin ranges for the edges of a histogram of `v`, using approximately `n` bins. The resulting step sizes will be 1, 2 or 5 multiplied by a power of 10. Note: Julia does not ignore `NaN` values in the computation.\n"
      ]
     },
     "execution_count": 6,
     "metadata": {},
     "output_type": "execute_result"
    },
    {
     "name": "stdout",
     "output_type": "stream",
     "text": [
      " histrange\n",
      "\n"
     ]
    }
   ],
   "source": [
    "?histrange"
   ]
  },
  {
   "cell_type": "code",
   "execution_count": 10,
   "metadata": {
    "collapsed": false
   },
   "outputs": [
    {
     "data": {
      "text/plain": [
       "(0.0:100.0:100.0,\n",
       "1x13 Array{Int64,2}:\n",
       " 1  1  1  1  1  1  1  1  1  1  1  1  1)"
      ]
     },
     "execution_count": 10,
     "metadata": {},
     "output_type": "execute_result"
    }
   ],
   "source": [
    "vec= hist(N)"
   ]
  },
  {
   "cell_type": "code",
   "execution_count": 8,
   "metadata": {
    "collapsed": true
   },
   "outputs": [],
   "source": [
    "using PyPlot"
   ]
  },
  {
   "cell_type": "code",
   "execution_count": 11,
   "metadata": {
    "collapsed": false
   },
   "outputs": [
    {
     "ename": "LoadError",
     "evalue": "LoadError: PyError (:PyObject_Call) <class 'ValueError'>\nValueError('x and y must have same first dimension',)\n  File \"C:\\Anaconda3\\lib\\site-packages\\matplotlib\\pyplot.py\", line 3099, in plot\n    ret = ax.plot(*args, **kwargs)\n  File \"C:\\Anaconda3\\lib\\site-packages\\matplotlib\\axes\\_axes.py\", line 1373, in plot\n    for line in self._get_lines(*args, **kwargs):\n  File \"C:\\Anaconda3\\lib\\site-packages\\matplotlib\\axes\\_base.py\", line 304, in _grab_next_args\n    for seg in self._plot_args(remaining, kwargs):\n  File \"C:\\Anaconda3\\lib\\site-packages\\matplotlib\\axes\\_base.py\", line 282, in _plot_args\n    x, y = self._xy_from_xy(x, y)\n  File \"C:\\Anaconda3\\lib\\site-packages\\matplotlib\\axes\\_base.py\", line 223, in _xy_from_xy\n    raise ValueError(\"x and y must have same first dimension\")\n\nwhile loading In[11], in expression starting on line 1",
     "output_type": "error",
     "traceback": [
      "LoadError: PyError (:PyObject_Call) <class 'ValueError'>\nValueError('x and y must have same first dimension',)\n  File \"C:\\Anaconda3\\lib\\site-packages\\matplotlib\\pyplot.py\", line 3099, in plot\n    ret = ax.plot(*args, **kwargs)\n  File \"C:\\Anaconda3\\lib\\site-packages\\matplotlib\\axes\\_axes.py\", line 1373, in plot\n    for line in self._get_lines(*args, **kwargs):\n  File \"C:\\Anaconda3\\lib\\site-packages\\matplotlib\\axes\\_base.py\", line 304, in _grab_next_args\n    for seg in self._plot_args(remaining, kwargs):\n  File \"C:\\Anaconda3\\lib\\site-packages\\matplotlib\\axes\\_base.py\", line 282, in _plot_args\n    x, y = self._xy_from_xy(x, y)\n  File \"C:\\Anaconda3\\lib\\site-packages\\matplotlib\\axes\\_base.py\", line 223, in _xy_from_xy\n    raise ValueError(\"x and y must have same first dimension\")\n\nwhile loading In[11], in expression starting on line 1",
      "",
      " in getindex at C:\\Users\\Magy\\.julia\\v0.4\\PyCall\\src\\PyCall.jl:240"
     ]
    }
   ],
   "source": [
    "plot(x,vec)"
   ]
  },
  {
   "cell_type": "code",
   "execution_count": null,
   "metadata": {
    "collapsed": true
   },
   "outputs": [],
   "source": []
  }
 ],
 "metadata": {
  "kernelspec": {
   "display_name": "Julia 0.4.0",
   "language": "julia",
   "name": "julia-0.4"
  },
  "language_info": {
   "file_extension": ".jl",
   "mimetype": "application/julia",
   "name": "julia",
   "version": "0.4.0"
  }
 },
 "nbformat": 4,
 "nbformat_minor": 0
}
